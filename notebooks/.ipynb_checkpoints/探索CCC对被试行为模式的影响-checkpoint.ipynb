{
 "cells": [
  {
   "cell_type": "code",
   "execution_count": 1,
   "metadata": {},
   "outputs": [
    {
     "name": "stderr",
     "output_type": "stream",
     "text": [
      "┌ Info: Precompiling JLD2 [033835bb-8acc-5ee8-8aae-3f567f8a3819]\n",
      "└ @ Base loading.jl:1278\n",
      "┌ Info: Precompiling Models [73df4adf-0718-4152-b75d-f87bfd26a255]\n",
      "└ @ Base loading.jl:1278\n",
      "┌ Info: Precompiling HypothesisTests [09f84164-cd44-5f33-b23f-e6b0d136a0d5]\n",
      "└ @ Base loading.jl:1278\n"
     ]
    },
    {
     "data": {
      "text/plain": [
       "Dict{String,String} with 4 entries:\n",
       "  \"response\"    => \"Response\"\n",
       "  \"RT\"          => \"RT\"\n",
       "  \"corrections\" => \"Type\"\n",
       "  \"sub_tag\"     => \"Subject\""
      ]
     },
     "execution_count": 1,
     "metadata": {},
     "output_type": "execute_result"
    }
   ],
   "source": [
    "# 导入数据\n",
    "using JLD2, DataFrames, DataFramesMeta, FileIO, CSV, Models, StatsBase, HypothesisTests\n",
    "\n",
    "@load \"/Users/dddd1007/project2git/cognitive_control_model/data/output/RLModels/model_selection/2021-01-07-145437final_selection_correct_CCC.jld2\"\n",
    "\n",
    "include(\"/Users/dddd1007/project2git/cognitive_control_model/scripts/import_all_data.jl\")"
   ]
  },
  {
   "cell_type": "code",
   "execution_count": 2,
   "metadata": {},
   "outputs": [
    {
     "data": {
      "text/plain": [
       "add_conflict_list (generic function with 1 method)"
      ]
     },
     "execution_count": 2,
     "metadata": {},
     "output_type": "execute_result"
    }
   ],
   "source": [
    "# 定义工具函数\n",
    "\n",
    "## 提取特定被试的估计后参数\n",
    "function extract_CCC_optim_params(eval_results, subname)\n",
    "    return eval_results[subname][5][:optim_param]\n",
    "end\n",
    "\n",
    "## 添加被试单次trial的冲突程度信息\n",
    "function add_conflict_list(sub_dataframe, env, subinfo, opt_params)\n",
    "    model_result = model_recovery(env, subinfo, opt_params, model_type = :_1a1d1CCC)\n",
    "    conflict_list = model_result[:conflict_list]\n",
    "    weight_history = model_result[:options_weight_history]\n",
    "    sub_dataframe.if_over_CCC = conflict_list .> opt_params[:CCC]\n",
    "    weight_history_table = DataFrame(weight_history, [:ll,:lr,:rl,:rr])\n",
    "    sub_dataframe = hcat(sub_dataframe, weight_history_table)\n",
    "    return sub_dataframe\n",
    "end"
   ]
  },
  {
   "cell_type": "code",
   "execution_count": 25,
   "metadata": {},
   "outputs": [
    {
     "name": "stdout",
     "output_type": "stream",
     "text": [
      "The env and sub info of sub25_LuSihan is generated!\n",
      "The env and sub info of sub31_TanPeixian is generated!\n",
      "The env and sub info of sub14_MaKexin is generated!\n",
      "The env and sub info of sub04_YiXiangjie is generated!\n",
      "The env and sub info of sub24_HuangQuan is generated!\n",
      "The env and sub info of sub33_LiangWenyan is generated!\n",
      "The env and sub info of sub10_YangFeixian is generated!\n",
      "The env and sub info of sub09_LiZiping is generated!\n",
      "The env and sub info of sub20_GuoTao is generated!\n",
      "The env and sub info of sub05_WuXiaohang is generated!\n",
      "The env and sub info of sub11_ZengWenpei is generated!\n",
      "The env and sub info of sub12_ChenRuiyi is generated!\n",
      "The env and sub info of sub28_HuangDajian is generated!\n",
      "The env and sub info of sub30_YanXingguang is generated!\n",
      "The env and sub info of sub07_LiangNvjun is generated!\n",
      "The env and sub info of sub08_Luoluo is generated!\n",
      "The env and sub info of sub18_WeiSiwen is generated!\n",
      "The env and sub info of sub21_LiBiying is generated!\n",
      "The env and sub info of sub16_ChenKaidi is generated!\n",
      "The env and sub info of sub29_ZhouZibing is generated!\n",
      "The env and sub info of sub19_TangJianqin is generated!\n",
      "The env and sub info of sub23_TanGuowei is generated!\n",
      "The env and sub info of sub13_HuangQimei is generated!\n",
      "The env and sub info of sub15_Lijian is generated!\n",
      "The env and sub info of sub03_YangZhile is generated!\n",
      "The env and sub info of sub17_ChenMingyi is generated!\n",
      "The env and sub info of sub34_HuangHaoxian is generated!\n",
      "The env and sub info of sub26_YeCuiyi is generated!\n",
      "The env and sub info of sub22_ChenYongcai is generated!\n",
      "The env and sub info of sub02_liSihong is generated!\n",
      "The env and sub info of sub36_ZhaoYinghong is generated!\n",
      "The env and sub info of sub32_YangDanni is generated!\n",
      "The env and sub info of sub01_Yangmiao is generated!\n",
      "The env and sub info of sub35_LingYinyi is generated!\n"
     ]
    },
    {
     "data": {
      "text/plain": [
       "\"/Users/dddd1007/project2git/cognitive_control_model/data/output/summary/subdata_with_CCC.csv\""
      ]
     },
     "execution_count": 25,
     "metadata": {},
     "output_type": "execute_result"
    }
   ],
   "source": [
    "# 给所有被试添加 conflict 程度信息\n",
    "temp_dataframe_stake = []\n",
    "\n",
    "for subname in collect(keys(eval_results))\n",
    "    each_sub_data = @where(all_data, :Subject .== subname)\n",
    "    env, subinfo = Models.RLModels.init_env_sub(each_sub_data, env_idx_dict, sub_idx_dict)\n",
    "    opt_params = extract_CCC_optim_params(eval_results, subname)\n",
    "    each_sub_data = add_conflict_list(each_sub_data, env, subinfo, opt_params) \n",
    "    push!(temp_dataframe_stake, each_sub_data)\n",
    "end\n",
    "\n",
    "dataframe_with_CCC_tag = temp_dataframe_stake[1]\n",
    "\n",
    "for i in 2:length(temp_dataframe_stake)\n",
    "    dataframe_with_CCC_tag = vcat(dataframe_with_CCC_tag, temp_dataframe_stake[i])\n",
    "end\n",
    "\n",
    "# 导出数据到R中分析\n",
    "CSV.write(\"/Users/dddd1007/project2git/cognitive_control_model/data/output/summary/subdata_with_CCC.csv\", dataframe_with_CCC_tag)"
   ]
  },
  {
   "cell_type": "markdown",
   "metadata": {},
   "source": [
    "## 初步查看被试在反应时上的差异\n",
    "\n",
    "当前的假设是, 被试在冲突较强时, 应该会采用不同的学习率. 这意味着当前的冲突较强时, 被试采取了较高的 learning rate 来更新 S-R 的价值权重, 那么之后相同的行为, 应该会存在更快的反应时. 因此我们计算 前-后 为相同的 S-R 的 trial 间 RT 的差, 查看该差值在 conflict 小于或大于 CCC threshold 后是否存在不同."
   ]
  },
  {
   "cell_type": "code",
   "execution_count": 22,
   "metadata": {},
   "outputs": [
    {
     "ename": "LoadError",
     "evalue": "MethodError: no method matching ExactPermutationTest(::Array{Float64,1}, ::Array{Float64,1})\nClosest candidates are:\n  ExactPermutationTest(::AbstractArray{R,1}, ::AbstractArray{S,1}, !Matched::Function) where {R<:Real, S<:Real} at /Users/dddd1007/.julia/packages/HypothesisTests/40Llk/src/permutation.jl:21",
     "output_type": "error",
     "traceback": [
      "MethodError: no method matching ExactPermutationTest(::Array{Float64,1}, ::Array{Float64,1})\nClosest candidates are:\n  ExactPermutationTest(::AbstractArray{R,1}, ::AbstractArray{S,1}, !Matched::Function) where {R<:Real, S<:Real} at /Users/dddd1007/.julia/packages/HypothesisTests/40Llk/src/permutation.jl:21",
      "",
      "Stacktrace:",
      " [1] test_RT_difference(::DataFrame) at ./In[22]:27",
      " [2] top-level scope at In[22]:31",
      " [3] include_string(::Function, ::Module, ::String, ::String) at ./loading.jl:1091"
     ]
    }
   ],
   "source": []
  },
  {
   "cell_type": "code",
   "execution_count": null,
   "metadata": {},
   "outputs": [],
   "source": []
  }
 ],
 "metadata": {
  "kernelspec": {
   "display_name": "Julia 1.5.3",
   "language": "julia",
   "name": "julia-1.5"
  },
  "language_info": {
   "file_extension": ".jl",
   "mimetype": "application/julia",
   "name": "julia",
   "version": "1.5.3"
  },
  "toc-showcode": false
 },
 "nbformat": 4,
 "nbformat_minor": 4
}
