{
 "cells": [
  {
   "cell_type": "code",
   "execution_count": 3,
   "source": [
    "import pymc3 as pm\n",
    "import numpy as np\n",
    "import theano.tensor as tt\n",
    "print(f\"Running on PyMC3 v{pm.__version__}\")"
   ],
   "outputs": [
    {
     "output_type": "stream",
     "name": "stdout",
     "text": [
      "Running on PyMC3 v3.11.2\n"
     ]
    }
   ],
   "metadata": {}
  },
  {
   "cell_type": "code",
   "execution_count": 4,
   "source": [
    "r = [0.5, 0.6, 0.3, 0.2]"
   ],
   "outputs": [],
   "metadata": {}
  },
  {
   "cell_type": "code",
   "execution_count": null,
   "source": [],
   "outputs": [],
   "metadata": {}
  }
 ],
 "metadata": {
  "orig_nbformat": 4,
  "language_info": {
   "name": "python",
   "version": "3.8.10",
   "mimetype": "text/x-python",
   "codemirror_mode": {
    "name": "ipython",
    "version": 3
   },
   "pygments_lexer": "ipython3",
   "nbconvert_exporter": "python",
   "file_extension": ".py"
  },
  "kernelspec": {
   "name": "python3810jvsc74a57bd00dfe40a4fb14c6b49f8380e355628a42d7e399d8f987b9b3b699dfd6f07fbbfa",
   "display_name": "Python 3.8.10 64-bit ('base': conda)",
   "language": "python"
  },
  "interpreter": {
   "hash": "dfa4a652f42ed5196625c910ea4ada19e7577281e908301ffc84fdb4826128f5"
  }
 },
 "nbformat": 4,
 "nbformat_minor": 2
}