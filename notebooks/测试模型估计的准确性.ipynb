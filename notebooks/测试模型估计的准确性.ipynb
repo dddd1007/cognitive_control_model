{
 "cells": [
  {
   "cell_type": "markdown",
   "metadata": {},
   "source": [
    "# 测试模型估计的准确性\n",
    "\n",
    "在贝叶斯模型设计程序中, 我们编写了多个测试模型.\n",
    "\n",
    "1. 经典 Tim Behrens 模型, 仅在 y 改为多维度的 bernulli 分布\n",
    "2. 将 y 的分布改为 mulitnormal 分布, 随后将 r 的分布改为狄利克雷分布\n",
    "3. 将 y 按照不同的信息维度分为多个 bernulli 分布, 同时对应的 r 有多个 beta 分布.\n",
    "\n",
    "模型1的可靠性很低, 同时今天 (2020-07-05) 已经测试估计了模型3的结果"
   ]
  },
  {
   "cell_type": "code",
   "execution_count": 11,
   "metadata": {
    "scrolled": true,
    "vscode": {
     "languageId": "r"
    }
   },
   "outputs": [],
   "source": [
    "library(tidyverse)\n",
    "library(here)\n",
    "\n",
    "sub_data <- read.csv(here(\"data\", \"sub01_Yangmiao_s.csv\"))\n",
    "estimated_data_model3 <- read.csv(here(\"data\", \"output\", \"multi_dim_bayesian_learner\", \"model3.csv\"))\n",
    "estimated_data_model1 <- read.csv(here(\"data\", \"output\", \"multi_dim_bayesian_learner\", \"model1.csv\"))"
   ]
  },
  {
   "cell_type": "code",
   "execution_count": 5,
   "metadata": {
    "vscode": {
     "languageId": "r"
    }
   },
   "outputs": [
    {
     "data": {
      "text/html": [
       "<table>\n",
       "<caption>A data.frame: 6 × 7</caption>\n",
       "<thead>\n",
       "\t<tr><th></th><th scope=col>X</th><th scope=col>k_list</th><th scope=col>v_list</th><th scope=col>r1_list</th><th scope=col>r2_list</th><th scope=col>k_cap</th><th scope=col>v_cap</th></tr>\n",
       "\t<tr><th></th><th scope=col>&lt;int&gt;</th><th scope=col>&lt;dbl&gt;</th><th scope=col>&lt;dbl&gt;</th><th scope=col>&lt;dbl&gt;</th><th scope=col>&lt;dbl&gt;</th><th scope=col>&lt;dbl&gt;</th><th scope=col>&lt;dbl&gt;</th></tr>\n",
       "</thead>\n",
       "<tbody>\n",
       "\t<tr><th scope=row>1</th><td>0</td><td>-1.2255343</td><td> 0.7230516</td><td>0.8217114</td><td>0.15118530</td><td>2.721202</td><td>3.0878398</td></tr>\n",
       "\t<tr><th scope=row>2</th><td>1</td><td>-0.9161216</td><td> 0.4184744</td><td>0.9227206</td><td>0.05688571</td><td>9.044193</td><td>2.2073483</td></tr>\n",
       "\t<tr><th scope=row>3</th><td>2</td><td>-0.6407631</td><td>-0.1191336</td><td>0.9442959</td><td>0.54538256</td><td>4.331058</td><td>1.5274851</td></tr>\n",
       "\t<tr><th scope=row>4</th><td>3</td><td>-0.7902760</td><td>-0.6214576</td><td>0.9542452</td><td>0.67905850</td><td>5.270791</td><td>0.7957149</td></tr>\n",
       "\t<tr><th scope=row>5</th><td>4</td><td>-0.5940357</td><td>-1.1110465</td><td>0.9618944</td><td>0.78128095</td><td>2.989975</td><td>0.4820522</td></tr>\n",
       "\t<tr><th scope=row>6</th><td>5</td><td>-0.8094041</td><td>-1.9001080</td><td>0.9694178</td><td>0.83584244</td><td>2.912134</td><td>0.3016363</td></tr>\n",
       "</tbody>\n",
       "</table>\n"
      ],
      "text/latex": [
       "A data.frame: 6 × 7\n",
       "\\begin{tabular}{r|lllllll}\n",
       "  & X & k\\_list & v\\_list & r1\\_list & r2\\_list & k\\_cap & v\\_cap\\\\\n",
       "  & <int> & <dbl> & <dbl> & <dbl> & <dbl> & <dbl> & <dbl>\\\\\n",
       "\\hline\n",
       "\t1 & 0 & -1.2255343 &  0.7230516 & 0.8217114 & 0.15118530 & 2.721202 & 3.0878398\\\\\n",
       "\t2 & 1 & -0.9161216 &  0.4184744 & 0.9227206 & 0.05688571 & 9.044193 & 2.2073483\\\\\n",
       "\t3 & 2 & -0.6407631 & -0.1191336 & 0.9442959 & 0.54538256 & 4.331058 & 1.5274851\\\\\n",
       "\t4 & 3 & -0.7902760 & -0.6214576 & 0.9542452 & 0.67905850 & 5.270791 & 0.7957149\\\\\n",
       "\t5 & 4 & -0.5940357 & -1.1110465 & 0.9618944 & 0.78128095 & 2.989975 & 0.4820522\\\\\n",
       "\t6 & 5 & -0.8094041 & -1.9001080 & 0.9694178 & 0.83584244 & 2.912134 & 0.3016363\\\\\n",
       "\\end{tabular}\n"
      ],
      "text/markdown": [
       "\n",
       "A data.frame: 6 × 7\n",
       "\n",
       "| <!--/--> | X &lt;int&gt; | k_list &lt;dbl&gt; | v_list &lt;dbl&gt; | r1_list &lt;dbl&gt; | r2_list &lt;dbl&gt; | k_cap &lt;dbl&gt; | v_cap &lt;dbl&gt; |\n",
       "|---|---|---|---|---|---|---|---|\n",
       "| 1 | 0 | -1.2255343 |  0.7230516 | 0.8217114 | 0.15118530 | 2.721202 | 3.0878398 |\n",
       "| 2 | 1 | -0.9161216 |  0.4184744 | 0.9227206 | 0.05688571 | 9.044193 | 2.2073483 |\n",
       "| 3 | 2 | -0.6407631 | -0.1191336 | 0.9442959 | 0.54538256 | 4.331058 | 1.5274851 |\n",
       "| 4 | 3 | -0.7902760 | -0.6214576 | 0.9542452 | 0.67905850 | 5.270791 | 0.7957149 |\n",
       "| 5 | 4 | -0.5940357 | -1.1110465 | 0.9618944 | 0.78128095 | 2.989975 | 0.4820522 |\n",
       "| 6 | 5 | -0.8094041 | -1.9001080 | 0.9694178 | 0.83584244 | 2.912134 | 0.3016363 |\n",
       "\n"
      ],
      "text/plain": [
       "  X k_list     v_list     r1_list   r2_list    k_cap    v_cap    \n",
       "1 0 -1.2255343  0.7230516 0.8217114 0.15118530 2.721202 3.0878398\n",
       "2 1 -0.9161216  0.4184744 0.9227206 0.05688571 9.044193 2.2073483\n",
       "3 2 -0.6407631 -0.1191336 0.9442959 0.54538256 4.331058 1.5274851\n",
       "4 3 -0.7902760 -0.6214576 0.9542452 0.67905850 5.270791 0.7957149\n",
       "5 4 -0.5940357 -1.1110465 0.9618944 0.78128095 2.989975 0.4820522\n",
       "6 5 -0.8094041 -1.9001080 0.9694178 0.83584244 2.912134 0.3016363"
      ]
     },
     "metadata": {},
     "output_type": "display_data"
    },
    {
     "data": {
      "text/html": [
       "<table>\n",
       "<caption>A data.frame: 6 × 12</caption>\n",
       "<thead>\n",
       "\t<tr><th></th><th scope=col>Subject</th><th scope=col>color</th><th scope=col>location</th><th scope=col>Response</th><th scope=col>contigency</th><th scope=col>RT</th><th scope=col>Type</th><th scope=col>condition</th><th scope=col>Time</th><th scope=col>index</th><th scope=col>cue</th><th scope=col>reward</th></tr>\n",
       "\t<tr><th></th><th scope=col>&lt;chr&gt;</th><th scope=col>&lt;chr&gt;</th><th scope=col>&lt;chr&gt;</th><th scope=col>&lt;int&gt;</th><th scope=col>&lt;chr&gt;</th><th scope=col>&lt;dbl&gt;</th><th scope=col>&lt;chr&gt;</th><th scope=col>&lt;chr&gt;</th><th scope=col>&lt;int&gt;</th><th scope=col>&lt;int&gt;</th><th scope=col>&lt;int&gt;</th><th scope=col>&lt;int&gt;</th></tr>\n",
       "</thead>\n",
       "<tbody>\n",
       "\t<tr><th scope=row>1</th><td>sub01_Yangmiao</td><td>green</td><td>left</td><td>2</td><td>inc</td><td>554.8</td><td>hit</td><td>s</td><td>  4292</td><td>481</td><td>0</td><td>1</td></tr>\n",
       "\t<tr><th scope=row>2</th><td>sub01_Yangmiao</td><td>green</td><td>left</td><td>2</td><td>inc</td><td>381.7</td><td>hit</td><td>s</td><td> 47621</td><td>482</td><td>0</td><td>1</td></tr>\n",
       "\t<tr><th scope=row>3</th><td>sub01_Yangmiao</td><td>red  </td><td>left</td><td>1</td><td>con</td><td>530.7</td><td>hit</td><td>s</td><td> 98449</td><td>483</td><td>0</td><td>1</td></tr>\n",
       "\t<tr><th scope=row>4</th><td>sub01_Yangmiao</td><td>red  </td><td>left</td><td>1</td><td>con</td><td>423.7</td><td>hit</td><td>s</td><td>149278</td><td>484</td><td>0</td><td>1</td></tr>\n",
       "\t<tr><th scope=row>5</th><td>sub01_Yangmiao</td><td>red  </td><td>left</td><td>1</td><td>con</td><td>348.7</td><td>hit</td><td>s</td><td>200106</td><td>485</td><td>0</td><td>1</td></tr>\n",
       "\t<tr><th scope=row>6</th><td>sub01_Yangmiao</td><td>red  </td><td>left</td><td>1</td><td>con</td><td>311.7</td><td>hit</td><td>s</td><td>243435</td><td>486</td><td>0</td><td>1</td></tr>\n",
       "</tbody>\n",
       "</table>\n"
      ],
      "text/latex": [
       "A data.frame: 6 × 12\n",
       "\\begin{tabular}{r|llllllllllll}\n",
       "  & Subject & color & location & Response & contigency & RT & Type & condition & Time & index & cue & reward\\\\\n",
       "  & <chr> & <chr> & <chr> & <int> & <chr> & <dbl> & <chr> & <chr> & <int> & <int> & <int> & <int>\\\\\n",
       "\\hline\n",
       "\t1 & sub01\\_Yangmiao & green & left & 2 & inc & 554.8 & hit & s &   4292 & 481 & 0 & 1\\\\\n",
       "\t2 & sub01\\_Yangmiao & green & left & 2 & inc & 381.7 & hit & s &  47621 & 482 & 0 & 1\\\\\n",
       "\t3 & sub01\\_Yangmiao & red   & left & 1 & con & 530.7 & hit & s &  98449 & 483 & 0 & 1\\\\\n",
       "\t4 & sub01\\_Yangmiao & red   & left & 1 & con & 423.7 & hit & s & 149278 & 484 & 0 & 1\\\\\n",
       "\t5 & sub01\\_Yangmiao & red   & left & 1 & con & 348.7 & hit & s & 200106 & 485 & 0 & 1\\\\\n",
       "\t6 & sub01\\_Yangmiao & red   & left & 1 & con & 311.7 & hit & s & 243435 & 486 & 0 & 1\\\\\n",
       "\\end{tabular}\n"
      ],
      "text/markdown": [
       "\n",
       "A data.frame: 6 × 12\n",
       "\n",
       "| <!--/--> | Subject &lt;chr&gt; | color &lt;chr&gt; | location &lt;chr&gt; | Response &lt;int&gt; | contigency &lt;chr&gt; | RT &lt;dbl&gt; | Type &lt;chr&gt; | condition &lt;chr&gt; | Time &lt;int&gt; | index &lt;int&gt; | cue &lt;int&gt; | reward &lt;int&gt; |\n",
       "|---|---|---|---|---|---|---|---|---|---|---|---|---|\n",
       "| 1 | sub01_Yangmiao | green | left | 2 | inc | 554.8 | hit | s |   4292 | 481 | 0 | 1 |\n",
       "| 2 | sub01_Yangmiao | green | left | 2 | inc | 381.7 | hit | s |  47621 | 482 | 0 | 1 |\n",
       "| 3 | sub01_Yangmiao | red   | left | 1 | con | 530.7 | hit | s |  98449 | 483 | 0 | 1 |\n",
       "| 4 | sub01_Yangmiao | red   | left | 1 | con | 423.7 | hit | s | 149278 | 484 | 0 | 1 |\n",
       "| 5 | sub01_Yangmiao | red   | left | 1 | con | 348.7 | hit | s | 200106 | 485 | 0 | 1 |\n",
       "| 6 | sub01_Yangmiao | red   | left | 1 | con | 311.7 | hit | s | 243435 | 486 | 0 | 1 |\n",
       "\n"
      ],
      "text/plain": [
       "  Subject        color location Response contigency RT    Type condition Time  \n",
       "1 sub01_Yangmiao green left     2        inc        554.8 hit  s           4292\n",
       "2 sub01_Yangmiao green left     2        inc        381.7 hit  s          47621\n",
       "3 sub01_Yangmiao red   left     1        con        530.7 hit  s          98449\n",
       "4 sub01_Yangmiao red   left     1        con        423.7 hit  s         149278\n",
       "5 sub01_Yangmiao red   left     1        con        348.7 hit  s         200106\n",
       "6 sub01_Yangmiao red   left     1        con        311.7 hit  s         243435\n",
       "  index cue reward\n",
       "1 481   0   1     \n",
       "2 482   0   1     \n",
       "3 483   0   1     \n",
       "4 484   0   1     \n",
       "5 485   0   1     \n",
       "6 486   0   1     "
      ]
     },
     "metadata": {},
     "output_type": "display_data"
    }
   ],
   "source": [
    "head(estimated_data_model3)\n",
    "head(sub_data)"
   ]
  },
  {
   "cell_type": "markdown",
   "metadata": {},
   "source": [
    "在估计的数据中, r1 / y1 对应的是空间位置 (location), r2 / y2 对应的是动作. 对应关系 {'left':1, 'right':0}\n",
    "\n",
    "因此我们可以将估计得到的结果整理如下表:"
   ]
  },
  {
   "cell_type": "code",
   "execution_count": 14,
   "metadata": {
    "vscode": {
     "languageId": "r"
    }
   },
   "outputs": [
    {
     "data": {
      "text/html": [
       "<table>\n",
       "<caption>A data.frame: 6 × 4</caption>\n",
       "<thead>\n",
       "\t<tr><th></th><th scope=col>p_left_loc</th><th scope=col>p_right_loc</th><th scope=col>p_left_hand</th><th scope=col>p_right_hand</th></tr>\n",
       "\t<tr><th></th><th scope=col>&lt;dbl&gt;</th><th scope=col>&lt;dbl&gt;</th><th scope=col>&lt;dbl&gt;</th><th scope=col>&lt;dbl&gt;</th></tr>\n",
       "</thead>\n",
       "<tbody>\n",
       "\t<tr><th scope=row>1</th><td>0.8217114</td><td>0.17828865</td><td>0.15118530</td><td>0.8488147</td></tr>\n",
       "\t<tr><th scope=row>2</th><td>0.9227206</td><td>0.07727939</td><td>0.05688571</td><td>0.9431143</td></tr>\n",
       "\t<tr><th scope=row>3</th><td>0.9442959</td><td>0.05570415</td><td>0.54538256</td><td>0.4546174</td></tr>\n",
       "\t<tr><th scope=row>4</th><td>0.9542452</td><td>0.04575485</td><td>0.67905850</td><td>0.3209415</td></tr>\n",
       "\t<tr><th scope=row>5</th><td>0.9618944</td><td>0.03810560</td><td>0.78128095</td><td>0.2187190</td></tr>\n",
       "\t<tr><th scope=row>6</th><td>0.9694178</td><td>0.03058216</td><td>0.83584244</td><td>0.1641576</td></tr>\n",
       "</tbody>\n",
       "</table>\n"
      ],
      "text/latex": [
       "A data.frame: 6 × 4\n",
       "\\begin{tabular}{r|llll}\n",
       "  & p\\_left\\_loc & p\\_right\\_loc & p\\_left\\_hand & p\\_right\\_hand\\\\\n",
       "  & <dbl> & <dbl> & <dbl> & <dbl>\\\\\n",
       "\\hline\n",
       "\t1 & 0.8217114 & 0.17828865 & 0.15118530 & 0.8488147\\\\\n",
       "\t2 & 0.9227206 & 0.07727939 & 0.05688571 & 0.9431143\\\\\n",
       "\t3 & 0.9442959 & 0.05570415 & 0.54538256 & 0.4546174\\\\\n",
       "\t4 & 0.9542452 & 0.04575485 & 0.67905850 & 0.3209415\\\\\n",
       "\t5 & 0.9618944 & 0.03810560 & 0.78128095 & 0.2187190\\\\\n",
       "\t6 & 0.9694178 & 0.03058216 & 0.83584244 & 0.1641576\\\\\n",
       "\\end{tabular}\n"
      ],
      "text/markdown": [
       "\n",
       "A data.frame: 6 × 4\n",
       "\n",
       "| <!--/--> | p_left_loc &lt;dbl&gt; | p_right_loc &lt;dbl&gt; | p_left_hand &lt;dbl&gt; | p_right_hand &lt;dbl&gt; |\n",
       "|---|---|---|---|---|\n",
       "| 1 | 0.8217114 | 0.17828865 | 0.15118530 | 0.8488147 |\n",
       "| 2 | 0.9227206 | 0.07727939 | 0.05688571 | 0.9431143 |\n",
       "| 3 | 0.9442959 | 0.05570415 | 0.54538256 | 0.4546174 |\n",
       "| 4 | 0.9542452 | 0.04575485 | 0.67905850 | 0.3209415 |\n",
       "| 5 | 0.9618944 | 0.03810560 | 0.78128095 | 0.2187190 |\n",
       "| 6 | 0.9694178 | 0.03058216 | 0.83584244 | 0.1641576 |\n",
       "\n"
      ],
      "text/plain": [
       "  p_left_loc p_right_loc p_left_hand p_right_hand\n",
       "1 0.8217114  0.17828865  0.15118530  0.8488147   \n",
       "2 0.9227206  0.07727939  0.05688571  0.9431143   \n",
       "3 0.9442959  0.05570415  0.54538256  0.4546174   \n",
       "4 0.9542452  0.04575485  0.67905850  0.3209415   \n",
       "5 0.9618944  0.03810560  0.78128095  0.2187190   \n",
       "6 0.9694178  0.03058216  0.83584244  0.1641576   "
      ]
     },
     "metadata": {},
     "output_type": "display_data"
    }
   ],
   "source": [
    "p_left_loc <- estimated_data_model3$r1_list\n",
    "p_right_loc <- 1 - estimated_data_model3$r1_list\n",
    "p_left_hand <- estimated_data_model3$r2_list\n",
    "p_right_hand <- 1 - estimated_data_model3$r2_list\n",
    "\n",
    "probability_table <- data.frame(p_left_loc, p_right_loc, p_left_hand, p_right_hand)\n",
    "\n",
    "head(probability_table)"
   ]
  },
  {
   "cell_type": "markdown",
   "metadata": {},
   "source": [
    "如此我们首先可以计算 con/inc 的概率. \n",
    "\n",
    "$$ P(con) = P(loc_{left}) * P(hand_{left}) + P(loc_{right}) * P(hand_{right}) $$\n",
    "\n",
    "$$ P(inc) = P(loc_{left}) * P(hand_{right}) + P(loc_{right}) * P(hand_{left}) $$"
   ]
  },
  {
   "cell_type": "code",
   "execution_count": 9,
   "metadata": {
    "vscode": {
     "languageId": "r"
    }
   },
   "outputs": [],
   "source": [
    "p_con <- p_left_loc * p_left_hand + p_right_loc * p_right_hand\n",
    "p_inc <- p_left_loc * p_right_hand + p_right_loc * p_left_hand\n",
    "\n",
    "probability_table <- cbind(probability_table, p_con, p_inc)"
   ]
  },
  {
   "cell_type": "markdown",
   "metadata": {},
   "source": [
    "同时也可以计算不同的刺激反应联结的概率:"
   ]
  },
  {
   "cell_type": "code",
   "execution_count": 17,
   "metadata": {
    "vscode": {
     "languageId": "r"
    }
   },
   "outputs": [],
   "source": [
    "p_left_loc_left_hand <- p_left_loc * p_left_hand\n",
    "p_left_loc_right_hand <- p_left_loc * p_right_hand\n",
    "p_right_loc_left_hand <- p_right_loc * p_left_hand\n",
    "p_right_loc_right_hand <- p_right_loc * p_right_hand\n",
    "\n",
    "probability_table <- cbind(probability_table, p_left_loc_left_hand, p_left_loc_right_hand, \n",
    "                                              p_right_loc_left_hand, p_right_loc_right_hand)"
   ]
  },
  {
   "cell_type": "code",
   "execution_count": 18,
   "metadata": {
    "vscode": {
     "languageId": "r"
    }
   },
   "outputs": [
    {
     "data": {
      "text/html": [
       "<table>\n",
       "<caption>A data.frame: 6 × 8</caption>\n",
       "<thead>\n",
       "\t<tr><th></th><th scope=col>p_left_loc</th><th scope=col>p_right_loc</th><th scope=col>p_left_hand</th><th scope=col>p_right_hand</th><th scope=col>p_left_loc_left_hand</th><th scope=col>p_left_loc_right_hand</th><th scope=col>p_right_loc_left_hand</th><th scope=col>p_right_loc_right_hand</th></tr>\n",
       "\t<tr><th></th><th scope=col>&lt;dbl&gt;</th><th scope=col>&lt;dbl&gt;</th><th scope=col>&lt;dbl&gt;</th><th scope=col>&lt;dbl&gt;</th><th scope=col>&lt;dbl&gt;</th><th scope=col>&lt;dbl&gt;</th><th scope=col>&lt;dbl&gt;</th><th scope=col>&lt;dbl&gt;</th></tr>\n",
       "</thead>\n",
       "<tbody>\n",
       "\t<tr><th scope=row>1</th><td>0.8217114</td><td>0.17828865</td><td>0.15118530</td><td>0.8488147</td><td>0.12423068</td><td>0.6974807</td><td>0.026954623</td><td>0.151334025</td></tr>\n",
       "\t<tr><th scope=row>2</th><td>0.9227206</td><td>0.07727939</td><td>0.05688571</td><td>0.9431143</td><td>0.05248962</td><td>0.8702310</td><td>0.004396093</td><td>0.072883301</td></tr>\n",
       "\t<tr><th scope=row>3</th><td>0.9442959</td><td>0.05570415</td><td>0.54538256</td><td>0.4546174</td><td>0.51500249</td><td>0.4292934</td><td>0.030380070</td><td>0.025324076</td></tr>\n",
       "\t<tr><th scope=row>4</th><td>0.9542452</td><td>0.04575485</td><td>0.67905850</td><td>0.3209415</td><td>0.64798828</td><td>0.3062569</td><td>0.031070218</td><td>0.014684629</td></tr>\n",
       "\t<tr><th scope=row>5</th><td>0.9618944</td><td>0.03810560</td><td>0.78128095</td><td>0.2187190</td><td>0.75150977</td><td>0.2103846</td><td>0.029771182</td><td>0.008334421</td></tr>\n",
       "\t<tr><th scope=row>6</th><td>0.9694178</td><td>0.03058216</td><td>0.83584244</td><td>0.1641576</td><td>0.81028057</td><td>0.1591373</td><td>0.025561871</td><td>0.005020293</td></tr>\n",
       "</tbody>\n",
       "</table>\n"
      ],
      "text/latex": [
       "A data.frame: 6 × 8\n",
       "\\begin{tabular}{r|llllllll}\n",
       "  & p\\_left\\_loc & p\\_right\\_loc & p\\_left\\_hand & p\\_right\\_hand & p\\_left\\_loc\\_left\\_hand & p\\_left\\_loc\\_right\\_hand & p\\_right\\_loc\\_left\\_hand & p\\_right\\_loc\\_right\\_hand\\\\\n",
       "  & <dbl> & <dbl> & <dbl> & <dbl> & <dbl> & <dbl> & <dbl> & <dbl>\\\\\n",
       "\\hline\n",
       "\t1 & 0.8217114 & 0.17828865 & 0.15118530 & 0.8488147 & 0.12423068 & 0.6974807 & 0.026954623 & 0.151334025\\\\\n",
       "\t2 & 0.9227206 & 0.07727939 & 0.05688571 & 0.9431143 & 0.05248962 & 0.8702310 & 0.004396093 & 0.072883301\\\\\n",
       "\t3 & 0.9442959 & 0.05570415 & 0.54538256 & 0.4546174 & 0.51500249 & 0.4292934 & 0.030380070 & 0.025324076\\\\\n",
       "\t4 & 0.9542452 & 0.04575485 & 0.67905850 & 0.3209415 & 0.64798828 & 0.3062569 & 0.031070218 & 0.014684629\\\\\n",
       "\t5 & 0.9618944 & 0.03810560 & 0.78128095 & 0.2187190 & 0.75150977 & 0.2103846 & 0.029771182 & 0.008334421\\\\\n",
       "\t6 & 0.9694178 & 0.03058216 & 0.83584244 & 0.1641576 & 0.81028057 & 0.1591373 & 0.025561871 & 0.005020293\\\\\n",
       "\\end{tabular}\n"
      ],
      "text/markdown": [
       "\n",
       "A data.frame: 6 × 8\n",
       "\n",
       "| <!--/--> | p_left_loc &lt;dbl&gt; | p_right_loc &lt;dbl&gt; | p_left_hand &lt;dbl&gt; | p_right_hand &lt;dbl&gt; | p_left_loc_left_hand &lt;dbl&gt; | p_left_loc_right_hand &lt;dbl&gt; | p_right_loc_left_hand &lt;dbl&gt; | p_right_loc_right_hand &lt;dbl&gt; |\n",
       "|---|---|---|---|---|---|---|---|---|\n",
       "| 1 | 0.8217114 | 0.17828865 | 0.15118530 | 0.8488147 | 0.12423068 | 0.6974807 | 0.026954623 | 0.151334025 |\n",
       "| 2 | 0.9227206 | 0.07727939 | 0.05688571 | 0.9431143 | 0.05248962 | 0.8702310 | 0.004396093 | 0.072883301 |\n",
       "| 3 | 0.9442959 | 0.05570415 | 0.54538256 | 0.4546174 | 0.51500249 | 0.4292934 | 0.030380070 | 0.025324076 |\n",
       "| 4 | 0.9542452 | 0.04575485 | 0.67905850 | 0.3209415 | 0.64798828 | 0.3062569 | 0.031070218 | 0.014684629 |\n",
       "| 5 | 0.9618944 | 0.03810560 | 0.78128095 | 0.2187190 | 0.75150977 | 0.2103846 | 0.029771182 | 0.008334421 |\n",
       "| 6 | 0.9694178 | 0.03058216 | 0.83584244 | 0.1641576 | 0.81028057 | 0.1591373 | 0.025561871 | 0.005020293 |\n",
       "\n"
      ],
      "text/plain": [
       "  p_left_loc p_right_loc p_left_hand p_right_hand p_left_loc_left_hand\n",
       "1 0.8217114  0.17828865  0.15118530  0.8488147    0.12423068          \n",
       "2 0.9227206  0.07727939  0.05688571  0.9431143    0.05248962          \n",
       "3 0.9442959  0.05570415  0.54538256  0.4546174    0.51500249          \n",
       "4 0.9542452  0.04575485  0.67905850  0.3209415    0.64798828          \n",
       "5 0.9618944  0.03810560  0.78128095  0.2187190    0.75150977          \n",
       "6 0.9694178  0.03058216  0.83584244  0.1641576    0.81028057          \n",
       "  p_left_loc_right_hand p_right_loc_left_hand p_right_loc_right_hand\n",
       "1 0.6974807             0.026954623           0.151334025           \n",
       "2 0.8702310             0.004396093           0.072883301           \n",
       "3 0.4292934             0.030380070           0.025324076           \n",
       "4 0.3062569             0.031070218           0.014684629           \n",
       "5 0.2103846             0.029771182           0.008334421           \n",
       "6 0.1591373             0.025561871           0.005020293           "
      ]
     },
     "metadata": {},
     "output_type": "display_data"
    }
   ],
   "source": [
    "head(probability_table)"
   ]
  },
  {
   "cell_type": "markdown",
   "metadata": {},
   "source": [
    "假设被试的行为反应完全按照概率来执行, 此时可以做出被试对应的行为反应结果:"
   ]
  },
  {
   "cell_type": "code",
   "execution_count": 54,
   "metadata": {
    "vscode": {
     "languageId": "r"
    }
   },
   "outputs": [],
   "source": [
    "make_choice <- function(options_prob_table){\n",
    "    choice_results <- data.frame(nrow = nrow(options_prob_table))\n",
    "    options_item <- colnames(options_prob_table)\n",
    "    for(i in 1:nrow(options_prob_table)){\n",
    "        options_vector <- options_prob_table[i,]\n",
    "        choice_results[i,] <- options_item[which(options_vector == max(options_vector))]\n",
    "    }\n",
    "    \n",
    "    return(choice_results)\n",
    "}"
   ]
  },
  {
   "cell_type": "code",
   "execution_count": 55,
   "metadata": {
    "vscode": {
     "languageId": "r"
    }
   },
   "outputs": [],
   "source": [
    "make_choice(probability_table[, 5:8]) %>% \n",
    "    tidyr::separate(col = nrow, into = as.character(1:5), sep = \"_\") %>% \n",
    "    select(`4`) %>% \n",
    "    transmute(Response = case_when(`4` == \"right\" ~ 2, `4` == \"left\" ~ 1)) -> choices"
   ]
  },
  {
   "cell_type": "code",
   "execution_count": 60,
   "metadata": {
    "scrolled": true,
    "vscode": {
     "languageId": "r"
    }
   },
   "outputs": [
    {
     "data": {
      "text/plain": [
       "\n",
       "\tPearson's product-moment correlation\n",
       "\n",
       "data:  choices$Response and sub_data$Response\n",
       "t = 16.402, df = 478, p-value < 2.2e-16\n",
       "alternative hypothesis: true correlation is not equal to 0\n",
       "95 percent confidence interval:\n",
       " 0.5395846 0.6544542\n",
       "sample estimates:\n",
       "      cor \n",
       "0.6001042 \n"
      ]
     },
     "metadata": {},
     "output_type": "display_data"
    }
   ],
   "source": [
    "cor.test(choices$Response, sub_data$Response)"
   ]
  },
  {
   "cell_type": "code",
   "execution_count": null,
   "metadata": {
    "vscode": {
     "languageId": "r"
    }
   },
   "outputs": [],
   "source": []
  }
 ],
 "metadata": {
  "kernelspec": {
   "display_name": "R",
   "language": "R",
   "name": "ir"
  },
  "language_info": {
   "codemirror_mode": "r",
   "file_extension": ".r",
   "mimetype": "text/x-r-source",
   "name": "R",
   "pygments_lexer": "r",
   "version": "4.0.2"
  }
 },
 "nbformat": 4,
 "nbformat_minor": 4
}
