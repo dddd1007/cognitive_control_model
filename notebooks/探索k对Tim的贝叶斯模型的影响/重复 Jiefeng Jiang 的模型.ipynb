{
 "cells": [
  {
   "cell_type": "code",
   "execution_count": 2,
   "source": [
    "# init parameters\n",
    "import numpy as np\n",
    "\n",
    "def make_grid(start, stop, step):\n",
    "    \"\"\"Define an even grid over a parameter space.\"\"\"\n",
    "    count = (stop - start) / step + 1\n",
    "    return np.linspace(start, stop, int(count))\n",
    "\n",
    "p_grid = make_grid(0, 1, .02)\n",
    "v_grid = make_grid(1, 160, 2)\n",
    "k_grid = make_grid(0.04, 0.96, 0.04)"
   ],
   "outputs": [],
   "metadata": {}
  },
  {
   "cell_type": "code",
   "execution_count": null,
   "source": [],
   "outputs": [],
   "metadata": {}
  }
 ],
 "metadata": {
  "orig_nbformat": 4,
  "language_info": {
   "name": "python"
  }
 },
 "nbformat": 4,
 "nbformat_minor": 2
}