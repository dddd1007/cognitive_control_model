{
 "cells": [
  {
   "cell_type": "markdown",
   "metadata": {},
   "source": [
    "## 1. 导入数据与预处理"
   ]
  },
  {
   "cell_type": "code",
   "execution_count": 3,
   "metadata": {},
   "outputs": [
    {
     "name": "stderr",
     "output_type": "stream",
     "text": [
      "Warning message:\n",
      "“Missing column names filled in: 'X1' [1]”\n",
      "\n",
      "\u001b[36m──\u001b[39m \u001b[1m\u001b[1mColumn specification\u001b[1m\u001b[22m \u001b[36m───────────────────────────────────────────────────────────────────────────────────────────────────────────────────────────────────────────────────────────────────────────────────────────────────────────────────────────────────────────────────────────────────\u001b[39m\n",
      "cols(\n",
      "  .default = col_double(),\n",
      "  Subject = \u001b[31mcol_character()\u001b[39m,\n",
      "  logfile_name = \u001b[31mcol_character()\u001b[39m,\n",
      "  condition = \u001b[31mcol_character()\u001b[39m,\n",
      "  factors = \u001b[31mcol_character()\u001b[39m,\n",
      "  rule = \u001b[31mcol_character()\u001b[39m\n",
      ")\n",
      "\u001b[36mℹ\u001b[39m Use \u001b[30m\u001b[47m\u001b[30m\u001b[47m`spec()`\u001b[47m\u001b[30m\u001b[49m\u001b[39m for the full column specifications.\n",
      "\n",
      "\n"
     ]
    },
    {
     "name": "stdout",
     "output_type": "stream",
     "text": [
      "Rows: 31,477\n",
      "Columns: 30\n",
      "$ X1             \u001b[3m\u001b[90m<dbl>\u001b[39m\u001b[23m 1, 2, 3, 4, 5, 6, 7, 8, 9, 10, 11, 12, 13, 14, 15, 16, …\n",
      "$ stim_color     \u001b[3m\u001b[90m<dbl>\u001b[39m\u001b[23m 0, 0, 0, 0, 1, 1, 1, 0, 0, 1, 1, 1, 0, 1, 1, 1, 0, 0, 1…\n",
      "$ stim_loc       \u001b[3m\u001b[90m<dbl>\u001b[39m\u001b[23m 1, 0, 0, 0, 1, 1, 1, 0, 0, 0, 1, 0, 1, 1, 0, 0, 1, 1, 1…\n",
      "$ Type           \u001b[3m\u001b[90m<dbl>\u001b[39m\u001b[23m 1, 1, 1, 1, 1, 1, 1, 1, 1, 1, 1, 1, 1, 1, 1, 1, 1, 1, 1…\n",
      "$ Response       \u001b[3m\u001b[90m<dbl>\u001b[39m\u001b[23m 0, 0, 0, 0, 1, 1, 1, 0, 0, 1, 1, 1, 0, 1, 1, 1, 0, 0, 1…\n",
      "$ RT             \u001b[3m\u001b[90m<dbl>\u001b[39m\u001b[23m 939.5, 682.6, 391.8, 404.8, 369.6, 392.5, 325.8, 491.0,…\n",
      "$ Subject        \u001b[3m\u001b[90m<chr>\u001b[39m\u001b[23m \"sub01_Yangmiao\", \"sub01_Yangmiao\", \"sub01_Yangmiao\", \"…\n",
      "$ Trial          \u001b[3m\u001b[90m<dbl>\u001b[39m\u001b[23m 1, 2, 3, 4, 5, 6, 7, 8, 9, 10, 11, 12, 13, 14, 15, 16, …\n",
      "$ logfile_name   \u001b[3m\u001b[90m<chr>\u001b[39m\u001b[23m \"v_80\", \"v_80\", \"v_80\", \"v_80\", \"v_80\", \"v_80\", \"v_80\",…\n",
      "$ prop           \u001b[3m\u001b[90m<dbl>\u001b[39m\u001b[23m 80, 80, 80, 80, 80, 80, 80, 80, 80, 80, 80, 80, 80, 80,…\n",
      "$ condition      \u001b[3m\u001b[90m<chr>\u001b[39m\u001b[23m \"v\", \"v\", \"v\", \"v\", \"v\", \"v\", \"v\", \"v\", \"v\", \"v\", \"v\", …\n",
      "$ block          \u001b[3m\u001b[90m<dbl>\u001b[39m\u001b[23m 1, 1, 1, 1, 1, 1, 1, 1, 1, 1, 1, 1, 1, 1, 1, 1, 1, 1, 1…\n",
      "$ time_stamp     \u001b[3m\u001b[90m<dbl>\u001b[39m\u001b[23m 1553158380, 1553158380, 1553158380, 1553158380, 1553158…\n",
      "$ onset          \u001b[3m\u001b[90m<dbl>\u001b[39m\u001b[23m 0.21405, 2.63050, 5.17190, 7.71330, 10.25470, 12.67115,…\n",
      "$ factors        \u001b[3m\u001b[90m<chr>\u001b[39m\u001b[23m \"sub01_Yangmiao-v_80\", \"sub01_Yangmiao-v_80\", \"sub01_Ya…\n",
      "$ Subject_num    \u001b[3m\u001b[90m<dbl>\u001b[39m\u001b[23m 1, 1, 1, 1, 1, 1, 1, 1, 1, 1, 1, 1, 1, 1, 1, 1, 1, 1, 1…\n",
      "$ rule           \u001b[3m\u001b[90m<chr>\u001b[39m\u001b[23m \"redleft-greenright\", \"redleft-greenright\", \"redleft-gr…\n",
      "$ congruency     \u001b[3m\u001b[90m<dbl>\u001b[39m\u001b[23m 0, 1, 1, 1, 1, 1, 1, 1, 1, 0, 1, 0, 0, 1, 0, 0, 0, 0, 1…\n",
      "$ correct_action \u001b[3m\u001b[90m<dbl>\u001b[39m\u001b[23m 0, 0, 0, 0, 1, 1, 1, 0, 0, 1, 1, 1, 0, 1, 1, 1, 0, 0, 1…\n",
      "$ run            \u001b[3m\u001b[90m<dbl>\u001b[39m\u001b[23m 1, 1, 1, 1, 1, 1, 1, 1, 1, 1, 1, 1, 1, 1, 1, 1, 1, 1, 1…\n",
      "$ p_value        \u001b[3m\u001b[90m<dbl>\u001b[39m\u001b[23m 0.50000000, 0.50000000, 0.78347842, 0.90623681, 0.39187…\n",
      "$ ll             \u001b[3m\u001b[90m<dbl>\u001b[39m\u001b[23m 0.50000000, 0.78347842, 0.90623681, 0.95939649, 0.83316…\n",
      "$ lr             \u001b[3m\u001b[90m<dbl>\u001b[39m\u001b[23m 0.50000000, 0.21652158, 0.09376319, 0.04060351, 0.16683…\n",
      "$ rl             \u001b[3m\u001b[90m<dbl>\u001b[39m\u001b[23m 0.78347842, 0.70558325, 0.64909238, 0.60812426, 0.26334…\n",
      "$ rr             \u001b[3m\u001b[90m<dbl>\u001b[39m\u001b[23m 0.2165216, 0.2944168, 0.3509076, 0.3918757, 0.7366560, …\n",
      "$ conflict_value \u001b[3m\u001b[90m<dbl>\u001b[39m\u001b[23m 0.00000000, 0.00000000, 0.56695684, 0.81247363, -0.2162…\n",
      "$ CCC            \u001b[3m\u001b[90m<dbl>\u001b[39m\u001b[23m -0.3380105, -0.3380105, -0.3380105, -0.3380105, -0.3380…\n",
      "$ if_below_CCC   \u001b[3m\u001b[90m<dbl>\u001b[39m\u001b[23m 0, 0, 0, 0, 0, 0, 0, 0, 0, 1, 0, 0, 1, 0, 0, 0, 0, 0, 1…\n",
      "$ alpha          \u001b[3m\u001b[90m<dbl>\u001b[39m\u001b[23m 0.5669568, 0.5669568, 0.5669568, 0.5669568, 0.5669568, …\n",
      "$ decay          \u001b[3m\u001b[90m<dbl>\u001b[39m\u001b[23m 0.00000000, 0.20558325, 0.14909238, 0.10812426, 0.33316…\n"
     ]
    }
   ],
   "source": [
    "# import data\n",
    "library(tidyverse)\n",
    "library(here)\n",
    "library(janitor)\n",
    "\n",
    "raw_data <- read_csv(here(\n",
    "    \"data\", \"input\",\n",
    "    \"subdata_with_alpha_decay.csv\"\n",
    "))\n",
    "glimpse(raw_data)"
   ]
  },
  {
   "cell_type": "markdown",
   "metadata": {},
   "source": [
    "接下来先查看 CCC trial 的比例, 看是否能有足够的个数进行下一步分析."
   ]
  },
  {
   "cell_type": "code",
   "execution_count": 4,
   "metadata": {},
   "outputs": [
    {
     "name": "stderr",
     "output_type": "stream",
     "text": [
      "`summarise()` has grouped output by 'if_below_CCC'. You can override using the `.groups` argument.\n",
      "\n"
     ]
    },
    {
     "data": {
      "text/html": [
       "<table class=\"dataframe\">\n",
       "<caption>A grouped_df: 4 × 4</caption>\n",
       "<thead>\n",
       "\t<tr><th scope=col>if_below_CCC</th><th scope=col>condition</th><th scope=col>count</th><th scope=col>percentage</th></tr>\n",
       "\t<tr><th scope=col>&lt;dbl&gt;</th><th scope=col>&lt;chr&gt;</th><th scope=col>&lt;int&gt;</th><th scope=col>&lt;dbl&gt;</th></tr>\n",
       "</thead>\n",
       "<tbody>\n",
       "\t<tr><td>0</td><td>s</td><td>13753</td><td>0.43692220</td></tr>\n",
       "\t<tr><td>0</td><td>v</td><td>13827</td><td>0.43927312</td></tr>\n",
       "\t<tr><td>1</td><td>s</td><td> 1928</td><td>0.06125107</td></tr>\n",
       "\t<tr><td>1</td><td>v</td><td> 1969</td><td>0.06255361</td></tr>\n",
       "</tbody>\n",
       "</table>\n"
      ],
      "text/latex": [
       "A grouped\\_df: 4 × 4\n",
       "\\begin{tabular}{llll}\n",
       " if\\_below\\_CCC & condition & count & percentage\\\\\n",
       " <dbl> & <chr> & <int> & <dbl>\\\\\n",
       "\\hline\n",
       "\t 0 & s & 13753 & 0.43692220\\\\\n",
       "\t 0 & v & 13827 & 0.43927312\\\\\n",
       "\t 1 & s &  1928 & 0.06125107\\\\\n",
       "\t 1 & v &  1969 & 0.06255361\\\\\n",
       "\\end{tabular}\n"
      ],
      "text/markdown": [
       "\n",
       "A grouped_df: 4 × 4\n",
       "\n",
       "| if_below_CCC &lt;dbl&gt; | condition &lt;chr&gt; | count &lt;int&gt; | percentage &lt;dbl&gt; |\n",
       "|---|---|---|---|\n",
       "| 0 | s | 13753 | 0.43692220 |\n",
       "| 0 | v | 13827 | 0.43927312 |\n",
       "| 1 | s |  1928 | 0.06125107 |\n",
       "| 1 | v |  1969 | 0.06255361 |\n",
       "\n"
      ],
      "text/plain": [
       "  if_below_CCC condition count percentage\n",
       "1 0            s         13753 0.43692220\n",
       "2 0            v         13827 0.43927312\n",
       "3 1            s          1928 0.06125107\n",
       "4 1            v          1969 0.06255361"
      ]
     },
     "metadata": {},
     "output_type": "display_data"
    }
   ],
   "source": [
    "total_lines_num <- nrow(raw_data)\n",
    "raw_data %>%\n",
    "    group_by(if_below_CCC, condition) %>%\n",
    "    summarise(count = n(), percentage = n() / total_lines_num)"
   ]
  },
  {
   "cell_type": "markdown",
   "metadata": {},
   "source": [
    "接下来查看一下 CCC 对反应时影响的模式. 首先将不同类型的 CCC trail 进行分类, 分类的规则为.\n",
    "\n",
    "- 冲突水平小于 threshold         => Type = 2\n",
    "- 冲突水平大于 threshold 但小于 0 => Type = 1\n",
    "- 冲突水平大于 0                 => Type = 0"
   ]
  },
  {
   "cell_type": "code",
   "execution_count": 5,
   "metadata": {},
   "outputs": [],
   "source": [
    "conflict_type <- rep(0, nrow(raw_data))\n",
    "for (i in seq_len(nrow(raw_data))) {\n",
    "    if (raw_data[i, ]$if_below_CCC) {\n",
    "        conflict_type[i] <- 2\n",
    "    } else if (!raw_data[i, ]$if_below_CCC & raw_data[i, ]$conflict_value < 0) {\n",
    "        conflict_type[i] <- 1\n",
    "    } else if (!raw_data[i, ]$if_below_CCC & raw_data[i, ]$conflict_value >= 0) {\n",
    "        conflict_type[i] <- 0\n",
    "    }\n",
    "}\n",
    "add_conflict_type_data <- cbind(raw_data, conflict_type)"
   ]
  },
  {
   "cell_type": "code",
   "execution_count": 6,
   "metadata": {},
   "outputs": [
    {
     "data": {
      "text/html": [
       "TRUE"
      ],
      "text/latex": [
       "TRUE"
      ],
      "text/markdown": [
       "TRUE"
      ],
      "text/plain": [
       "[1] TRUE"
      ]
     },
     "metadata": {},
     "output_type": "display_data"
    }
   ],
   "source": [
    "!raw_data[2, ]$if_below_CCC"
   ]
  },
  {
   "cell_type": "markdown",
   "metadata": {},
   "source": [
    "## 2. 分析不同类型的数据的模式"
   ]
  },
  {
   "cell_type": "markdown",
   "metadata": {},
   "source": [
    "查看不同冲突类型的 trial 个数和所占的比例, 考虑这些数据是否能够支持接下来的分析."
   ]
  },
  {
   "cell_type": "code",
   "execution_count": 7,
   "metadata": {},
   "outputs": [
    {
     "name": "stderr",
     "output_type": "stream",
     "text": [
      "`summarise()` has grouped output by 'conflict_type'. You can override using the `.groups` argument.\n",
      "\n"
     ]
    },
    {
     "data": {
      "text/html": [
       "<table class=\"dataframe\">\n",
       "<caption>A grouped_df: 6 × 4</caption>\n",
       "<thead>\n",
       "\t<tr><th scope=col>conflict_type</th><th scope=col>condition</th><th scope=col>count</th><th scope=col>percent</th></tr>\n",
       "\t<tr><th scope=col>&lt;dbl&gt;</th><th scope=col>&lt;chr&gt;</th><th scope=col>&lt;int&gt;</th><th scope=col>&lt;dbl&gt;</th></tr>\n",
       "</thead>\n",
       "<tbody>\n",
       "\t<tr><td>0</td><td>s</td><td>10756</td><td>0.34170982</td></tr>\n",
       "\t<tr><td>0</td><td>v</td><td>10559</td><td>0.33545128</td></tr>\n",
       "\t<tr><td>1</td><td>s</td><td> 2997</td><td>0.09521238</td></tr>\n",
       "\t<tr><td>1</td><td>v</td><td> 3268</td><td>0.10382184</td></tr>\n",
       "\t<tr><td>2</td><td>s</td><td> 1928</td><td>0.06125107</td></tr>\n",
       "\t<tr><td>2</td><td>v</td><td> 1969</td><td>0.06255361</td></tr>\n",
       "</tbody>\n",
       "</table>\n"
      ],
      "text/latex": [
       "A grouped\\_df: 6 × 4\n",
       "\\begin{tabular}{llll}\n",
       " conflict\\_type & condition & count & percent\\\\\n",
       " <dbl> & <chr> & <int> & <dbl>\\\\\n",
       "\\hline\n",
       "\t 0 & s & 10756 & 0.34170982\\\\\n",
       "\t 0 & v & 10559 & 0.33545128\\\\\n",
       "\t 1 & s &  2997 & 0.09521238\\\\\n",
       "\t 1 & v &  3268 & 0.10382184\\\\\n",
       "\t 2 & s &  1928 & 0.06125107\\\\\n",
       "\t 2 & v &  1969 & 0.06255361\\\\\n",
       "\\end{tabular}\n"
      ],
      "text/markdown": [
       "\n",
       "A grouped_df: 6 × 4\n",
       "\n",
       "| conflict_type &lt;dbl&gt; | condition &lt;chr&gt; | count &lt;int&gt; | percent &lt;dbl&gt; |\n",
       "|---|---|---|---|\n",
       "| 0 | s | 10756 | 0.34170982 |\n",
       "| 0 | v | 10559 | 0.33545128 |\n",
       "| 1 | s |  2997 | 0.09521238 |\n",
       "| 1 | v |  3268 | 0.10382184 |\n",
       "| 2 | s |  1928 | 0.06125107 |\n",
       "| 2 | v |  1969 | 0.06255361 |\n",
       "\n"
      ],
      "text/plain": [
       "  conflict_type condition count percent   \n",
       "1 0             s         10756 0.34170982\n",
       "2 0             v         10559 0.33545128\n",
       "3 1             s          2997 0.09521238\n",
       "4 1             v          3268 0.10382184\n",
       "5 2             s          1928 0.06125107\n",
       "6 2             v          1969 0.06255361"
      ]
     },
     "metadata": {},
     "output_type": "display_data"
    }
   ],
   "source": [
    "add_conflict_type_data %>%\n",
    "    group_by(conflict_type, condition) %>%\n",
    "    summarise(count = n(), percent = n() / total_lines_num)"
   ]
  },
  {
   "cell_type": "markdown",
   "metadata": {},
   "source": [
    "其中, 小于 threshold 的 trials 占 10% 左右, 且 S 和 V 下比较一致. 数量尚可, 可以继续分析.\n",
    "\n",
    "我们比较上一个 conflict type 为 0, 1, 2 时, 随后的 trial 其反应时有什么特征.\n",
    "\n",
    "本质上, 反应时的变化应该能够体现 Q-Matrix 的变化. 在前一个 trial 为 conflict < threshold 时, 应该出现应用极大的 alpha 值进行更新, 因此会导致在之后刺激相同的 trial 应当快于其他两种 conflict type 后的 trial, 而刺激不同的 trial 应当慢于其他两种 conflict type 后的 trial. 让我们先把这不同类型的 trial 挑出来."
   ]
  },
  {
   "cell_type": "code",
   "execution_count": 8,
   "metadata": {},
   "outputs": [],
   "source": [
    "# 变量命名规则: 在 conflict type 为 x 之后且刺激空间位置相同, 刺激颜色相同/不同的trial => cx_sloc_s/dcolor\n",
    "c2_sloc_scolor_index <- c()\n",
    "c2_sloc_dcolor_index <- c()\n",
    "c2_dloc_scolor_index <- c()\n",
    "c2_dloc_dcolor_index <- c()\n",
    "\n",
    "c1_sloc_scolor_index <- c()\n",
    "c1_sloc_dcolor_index <- c()\n",
    "c1_dloc_scolor_index <- c()\n",
    "c1_dloc_dcolor_index <- c()\n",
    "\n",
    "c0_sloc_scolor_index <- c()\n",
    "c0_sloc_dcolor_index <- c()\n",
    "c0_dloc_scolor_index <- c()\n",
    "c0_dloc_dcolor_index <- c()\n",
    "\n",
    "# 提取不同条件的index\n",
    "for (idx in seq_len(nrow(add_conflict_type_data))) {\n",
    "    if (idx == 1) {\n",
    "        next\n",
    "    }\n",
    "\n",
    "    last_line <- add_conflict_type_data[idx - 1, ]\n",
    "    current_line <- add_conflict_type_data[idx, ]\n",
    "\n",
    "    if (last_line$conflict_type == 2) {\n",
    "        if (last_line$stim_loc == current_line$stim_loc &\n",
    "            last_line$stim_color == current_line$stim_color &\n",
    "            last_line$Subject == current_line$Subject) {\n",
    "            c2_sloc_scolor_index <- append(c2_sloc_scolor_index, idx)\n",
    "        } else if (last_line$stim_loc == current_line$stim_loc &\n",
    "            last_line$stim_color != current_line$stim_color &\n",
    "            last_line$Subject == current_line$Subject) {\n",
    "            c2_sloc_dcolor_index <- append(c2_sloc_dcolor_index, idx)\n",
    "        } else if (last_line$stim_loc != current_line$stim_loc &\n",
    "            last_line$stim_color == current_line$stim_color &\n",
    "            last_line$Subject == current_line$Subject) {\n",
    "            c2_dloc_scolor_index <- append(c2_dloc_scolor_index, idx)\n",
    "        } else if (last_line$stim_loc != current_line$stim_loc &\n",
    "            last_line$stim_color != current_line$stim_color &\n",
    "            last_line$Subject == current_line$Subject) {\n",
    "            c2_dloc_dcolor_index <- append(c2_dloc_dcolor_index, idx)\n",
    "        }\n",
    "    } else if (last_line$conflict_type == 1) {\n",
    "        if (last_line$stim_loc == current_line$stim_loc &\n",
    "            last_line$stim_color == current_line$stim_color &\n",
    "            last_line$Subject == current_line$Subject) {\n",
    "            c1_sloc_scolor_index <- append(c1_sloc_scolor_index, idx)\n",
    "        } else if (last_line$stim_loc == current_line$stim_loc &\n",
    "            last_line$stim_color != current_line$stim_color &\n",
    "            last_line$Subject == current_line$Subject) {\n",
    "            c1_sloc_dcolor_index <- append(c1_sloc_dcolor_index, idx)\n",
    "        } else if (last_line$stim_loc != current_line$stim_loc &\n",
    "            last_line$stim_color == current_line$stim_color &\n",
    "            last_line$Subject == current_line$Subject) {\n",
    "            c1_dloc_scolor_index <- append(c1_dloc_scolor_index, idx)\n",
    "        } else if (last_line$stim_loc != current_line$stim_loc &\n",
    "            last_line$stim_color != current_line$stim_color &\n",
    "            last_line$Subject == current_line$Subject) {\n",
    "            c1_dloc_dcolor_index <- append(c1_dloc_dcolor_index, idx)\n",
    "        }\n",
    "    } else if (last_line$conflict_type == 0) {\n",
    "        if (last_line$stim_loc == current_line$stim_loc &\n",
    "            last_line$stim_color == current_line$stim_color &\n",
    "            last_line$Subject == current_line$Subject) {\n",
    "            c0_sloc_scolor_index <- append(c0_sloc_scolor_index, idx)\n",
    "        } else if (last_line$stim_loc == current_line$stim_loc &\n",
    "            last_line$stim_color != current_line$stim_color &\n",
    "            last_line$Subject == current_line$Subject) {\n",
    "            c0_sloc_dcolor_index <- append(c0_sloc_dcolor_index, idx)\n",
    "        } else if (last_line$stim_loc != current_line$stim_loc &\n",
    "            last_line$stim_color == current_line$stim_color &\n",
    "            last_line$Subject == current_line$Subject) {\n",
    "            c0_dloc_scolor_index <- append(c0_dloc_scolor_index, idx)\n",
    "        } else if (last_line$stim_loc != current_line$stim_loc &\n",
    "            last_line$stim_color != current_line$stim_color &\n",
    "            last_line$Subject == current_line$Subject) {\n",
    "            c0_dloc_dcolor_index <- append(c0_dloc_dcolor_index, idx)\n",
    "        }\n",
    "    }\n",
    "}"
   ]
  },
  {
   "cell_type": "code",
   "execution_count": 9,
   "metadata": {},
   "outputs": [],
   "source": [
    "ttest_two_type_trials_diffRT <- function(input_dataframe, index1, index2) {\n",
    "    x_name <- paste0(\"mean_diff_\", deparse(substitute(index1)))\n",
    "    y_name <- paste0(\"mean_diff_\", deparse(substitute(index2)))\n",
    "\n",
    "    vector_1 <- input_dataframe[index1 - 1, ]$RT - input_dataframe[index1, ]$RT\n",
    "    vector_2 <- input_dataframe[index2 - 1, ]$RT - input_dataframe[index2, ]$RT\n",
    "\n",
    "    p_value <- rep(0, 3)\n",
    "    mean_x <- rep(0, 3)\n",
    "    mean_y <- rep(0, 3)\n",
    "    ttest_type <- c(\"two.sided\", \"less\", \"greater\")\n",
    "\n",
    "    result1 <- t.test(vector_1, vector_2, alternative = c(\"two.sided\"))\n",
    "    result2 <- t.test(vector_1, vector_2, alternative = c(\"less\"))\n",
    "    result3 <- t.test(vector_1, vector_2, alternative = c(\"greater\"))\n",
    "\n",
    "    p_value[1] <- result1$p.value\n",
    "    p_value[2] <- result2$p.value\n",
    "    p_value[3] <- result3$p.value\n",
    "\n",
    "    mean_x[1] <- result1$estimate[1]\n",
    "    mean_x[2] <- result2$estimate[1]\n",
    "    mean_x[3] <- result3$estimate[1]\n",
    "\n",
    "    mean_y[1] <- result1$estimate[2]\n",
    "    mean_y[2] <- result2$estimate[2]\n",
    "    mean_y[3] <- result3$estimate[2]\n",
    "\n",
    "    total_result <- data.frame(p_value, mean_x, mean_y, ttest_type)\n",
    "\n",
    "    colnames(total_result) <- c(\"p_value\", x_name, y_name, \"ttest_type\")\n",
    "\n",
    "    return(total_result)\n",
    "}"
   ]
  },
  {
   "cell_type": "code",
   "execution_count": 10,
   "metadata": {},
   "outputs": [
    {
     "data": {
      "text/html": [
       "<table class=\"dataframe\">\n",
       "<caption>A data.frame: 3 × 4</caption>\n",
       "<thead>\n",
       "\t<tr><th scope=col>p_value</th><th scope=col>mean_diff_c2_sloc_scolor_index</th><th scope=col>mean_diff_c1_sloc_scolor_index</th><th scope=col>ttest_type</th></tr>\n",
       "\t<tr><th scope=col>&lt;dbl&gt;</th><th scope=col>&lt;dbl&gt;</th><th scope=col>&lt;dbl&gt;</th><th scope=col>&lt;chr&gt;</th></tr>\n",
       "</thead>\n",
       "<tbody>\n",
       "\t<tr><td>0.6542999</td><td>23.99541</td><td>20.32721</td><td>two.sided</td></tr>\n",
       "\t<tr><td>0.6728501</td><td>23.99541</td><td>20.32721</td><td>less     </td></tr>\n",
       "\t<tr><td>0.3271499</td><td>23.99541</td><td>20.32721</td><td>greater  </td></tr>\n",
       "</tbody>\n",
       "</table>\n"
      ],
      "text/latex": [
       "A data.frame: 3 × 4\n",
       "\\begin{tabular}{llll}\n",
       " p\\_value & mean\\_diff\\_c2\\_sloc\\_scolor\\_index & mean\\_diff\\_c1\\_sloc\\_scolor\\_index & ttest\\_type\\\\\n",
       " <dbl> & <dbl> & <dbl> & <chr>\\\\\n",
       "\\hline\n",
       "\t 0.6542999 & 23.99541 & 20.32721 & two.sided\\\\\n",
       "\t 0.6728501 & 23.99541 & 20.32721 & less     \\\\\n",
       "\t 0.3271499 & 23.99541 & 20.32721 & greater  \\\\\n",
       "\\end{tabular}\n"
      ],
      "text/markdown": [
       "\n",
       "A data.frame: 3 × 4\n",
       "\n",
       "| p_value &lt;dbl&gt; | mean_diff_c2_sloc_scolor_index &lt;dbl&gt; | mean_diff_c1_sloc_scolor_index &lt;dbl&gt; | ttest_type &lt;chr&gt; |\n",
       "|---|---|---|---|\n",
       "| 0.6542999 | 23.99541 | 20.32721 | two.sided |\n",
       "| 0.6728501 | 23.99541 | 20.32721 | less      |\n",
       "| 0.3271499 | 23.99541 | 20.32721 | greater   |\n",
       "\n"
      ],
      "text/plain": [
       "  p_value   mean_diff_c2_sloc_scolor_index mean_diff_c1_sloc_scolor_index\n",
       "1 0.6542999 23.99541                       20.32721                      \n",
       "2 0.6728501 23.99541                       20.32721                      \n",
       "3 0.3271499 23.99541                       20.32721                      \n",
       "  ttest_type\n",
       "1 two.sided \n",
       "2 less      \n",
       "3 greater   "
      ]
     },
     "metadata": {},
     "output_type": "display_data"
    },
    {
     "data": {
      "text/html": [
       "<table class=\"dataframe\">\n",
       "<caption>A data.frame: 3 × 4</caption>\n",
       "<thead>\n",
       "\t<tr><th scope=col>p_value</th><th scope=col>mean_diff_c2_sloc_scolor_index</th><th scope=col>mean_diff_c0_sloc_scolor_index</th><th scope=col>ttest_type</th></tr>\n",
       "\t<tr><th scope=col>&lt;dbl&gt;</th><th scope=col>&lt;dbl&gt;</th><th scope=col>&lt;dbl&gt;</th><th scope=col>&lt;chr&gt;</th></tr>\n",
       "</thead>\n",
       "<tbody>\n",
       "\t<tr><td>0.10661469</td><td>23.99541</td><td>13.17883</td><td>two.sided</td></tr>\n",
       "\t<tr><td>0.94669266</td><td>23.99541</td><td>13.17883</td><td>less     </td></tr>\n",
       "\t<tr><td>0.05330734</td><td>23.99541</td><td>13.17883</td><td>greater  </td></tr>\n",
       "</tbody>\n",
       "</table>\n"
      ],
      "text/latex": [
       "A data.frame: 3 × 4\n",
       "\\begin{tabular}{llll}\n",
       " p\\_value & mean\\_diff\\_c2\\_sloc\\_scolor\\_index & mean\\_diff\\_c0\\_sloc\\_scolor\\_index & ttest\\_type\\\\\n",
       " <dbl> & <dbl> & <dbl> & <chr>\\\\\n",
       "\\hline\n",
       "\t 0.10661469 & 23.99541 & 13.17883 & two.sided\\\\\n",
       "\t 0.94669266 & 23.99541 & 13.17883 & less     \\\\\n",
       "\t 0.05330734 & 23.99541 & 13.17883 & greater  \\\\\n",
       "\\end{tabular}\n"
      ],
      "text/markdown": [
       "\n",
       "A data.frame: 3 × 4\n",
       "\n",
       "| p_value &lt;dbl&gt; | mean_diff_c2_sloc_scolor_index &lt;dbl&gt; | mean_diff_c0_sloc_scolor_index &lt;dbl&gt; | ttest_type &lt;chr&gt; |\n",
       "|---|---|---|---|\n",
       "| 0.10661469 | 23.99541 | 13.17883 | two.sided |\n",
       "| 0.94669266 | 23.99541 | 13.17883 | less      |\n",
       "| 0.05330734 | 23.99541 | 13.17883 | greater   |\n",
       "\n"
      ],
      "text/plain": [
       "  p_value    mean_diff_c2_sloc_scolor_index mean_diff_c0_sloc_scolor_index\n",
       "1 0.10661469 23.99541                       13.17883                      \n",
       "2 0.94669266 23.99541                       13.17883                      \n",
       "3 0.05330734 23.99541                       13.17883                      \n",
       "  ttest_type\n",
       "1 two.sided \n",
       "2 less      \n",
       "3 greater   "
      ]
     },
     "metadata": {},
     "output_type": "display_data"
    },
    {
     "data": {
      "text/html": [
       "<table class=\"dataframe\">\n",
       "<caption>A data.frame: 3 × 4</caption>\n",
       "<thead>\n",
       "\t<tr><th scope=col>p_value</th><th scope=col>mean_diff_c1_sloc_scolor_index</th><th scope=col>mean_diff_c0_sloc_scolor_index</th><th scope=col>ttest_type</th></tr>\n",
       "\t<tr><th scope=col>&lt;dbl&gt;</th><th scope=col>&lt;dbl&gt;</th><th scope=col>&lt;dbl&gt;</th><th scope=col>&lt;chr&gt;</th></tr>\n",
       "</thead>\n",
       "<tbody>\n",
       "\t<tr><td>0.19835850</td><td>20.32721</td><td>13.17883</td><td>two.sided</td></tr>\n",
       "\t<tr><td>0.90082075</td><td>20.32721</td><td>13.17883</td><td>less     </td></tr>\n",
       "\t<tr><td>0.09917925</td><td>20.32721</td><td>13.17883</td><td>greater  </td></tr>\n",
       "</tbody>\n",
       "</table>\n"
      ],
      "text/latex": [
       "A data.frame: 3 × 4\n",
       "\\begin{tabular}{llll}\n",
       " p\\_value & mean\\_diff\\_c1\\_sloc\\_scolor\\_index & mean\\_diff\\_c0\\_sloc\\_scolor\\_index & ttest\\_type\\\\\n",
       " <dbl> & <dbl> & <dbl> & <chr>\\\\\n",
       "\\hline\n",
       "\t 0.19835850 & 20.32721 & 13.17883 & two.sided\\\\\n",
       "\t 0.90082075 & 20.32721 & 13.17883 & less     \\\\\n",
       "\t 0.09917925 & 20.32721 & 13.17883 & greater  \\\\\n",
       "\\end{tabular}\n"
      ],
      "text/markdown": [
       "\n",
       "A data.frame: 3 × 4\n",
       "\n",
       "| p_value &lt;dbl&gt; | mean_diff_c1_sloc_scolor_index &lt;dbl&gt; | mean_diff_c0_sloc_scolor_index &lt;dbl&gt; | ttest_type &lt;chr&gt; |\n",
       "|---|---|---|---|\n",
       "| 0.19835850 | 20.32721 | 13.17883 | two.sided |\n",
       "| 0.90082075 | 20.32721 | 13.17883 | less      |\n",
       "| 0.09917925 | 20.32721 | 13.17883 | greater   |\n",
       "\n"
      ],
      "text/plain": [
       "  p_value    mean_diff_c1_sloc_scolor_index mean_diff_c0_sloc_scolor_index\n",
       "1 0.19835850 20.32721                       13.17883                      \n",
       "2 0.90082075 20.32721                       13.17883                      \n",
       "3 0.09917925 20.32721                       13.17883                      \n",
       "  ttest_type\n",
       "1 two.sided \n",
       "2 less      \n",
       "3 greater   "
      ]
     },
     "metadata": {},
     "output_type": "display_data"
    },
    {
     "data": {
      "text/html": [
       "<table class=\"dataframe\">\n",
       "<caption>A data.frame: 3 × 4</caption>\n",
       "<thead>\n",
       "\t<tr><th scope=col>p_value</th><th scope=col>mean_diff_c0_sloc_scolor_index</th><th scope=col>mean_diff_c(c1_sloc_scolor_index, c2_sloc_scolor_index)</th><th scope=col>ttest_type</th></tr>\n",
       "\t<tr><th scope=col>&lt;dbl&gt;</th><th scope=col>&lt;dbl&gt;</th><th scope=col>&lt;dbl&gt;</th><th scope=col>&lt;chr&gt;</th></tr>\n",
       "</thead>\n",
       "<tbody>\n",
       "\t<tr><td>0.06688764</td><td>13.17883</td><td>21.51755</td><td>two.sided</td></tr>\n",
       "\t<tr><td>0.03344382</td><td>13.17883</td><td>21.51755</td><td>less     </td></tr>\n",
       "\t<tr><td>0.96655618</td><td>13.17883</td><td>21.51755</td><td>greater  </td></tr>\n",
       "</tbody>\n",
       "</table>\n"
      ],
      "text/latex": [
       "A data.frame: 3 × 4\n",
       "\\begin{tabular}{llll}\n",
       " p\\_value & mean\\_diff\\_c0\\_sloc\\_scolor\\_index & mean\\_diff\\_c(c1\\_sloc\\_scolor\\_index, c2\\_sloc\\_scolor\\_index) & ttest\\_type\\\\\n",
       " <dbl> & <dbl> & <dbl> & <chr>\\\\\n",
       "\\hline\n",
       "\t 0.06688764 & 13.17883 & 21.51755 & two.sided\\\\\n",
       "\t 0.03344382 & 13.17883 & 21.51755 & less     \\\\\n",
       "\t 0.96655618 & 13.17883 & 21.51755 & greater  \\\\\n",
       "\\end{tabular}\n"
      ],
      "text/markdown": [
       "\n",
       "A data.frame: 3 × 4\n",
       "\n",
       "| p_value &lt;dbl&gt; | mean_diff_c0_sloc_scolor_index &lt;dbl&gt; | mean_diff_c(c1_sloc_scolor_index, c2_sloc_scolor_index) &lt;dbl&gt; | ttest_type &lt;chr&gt; |\n",
       "|---|---|---|---|\n",
       "| 0.06688764 | 13.17883 | 21.51755 | two.sided |\n",
       "| 0.03344382 | 13.17883 | 21.51755 | less      |\n",
       "| 0.96655618 | 13.17883 | 21.51755 | greater   |\n",
       "\n"
      ],
      "text/plain": [
       "  p_value    mean_diff_c0_sloc_scolor_index\n",
       "1 0.06688764 13.17883                      \n",
       "2 0.03344382 13.17883                      \n",
       "3 0.96655618 13.17883                      \n",
       "  mean_diff_c(c1_sloc_scolor_index, c2_sloc_scolor_index) ttest_type\n",
       "1 21.51755                                                two.sided \n",
       "2 21.51755                                                less      \n",
       "3 21.51755                                                greater   "
      ]
     },
     "metadata": {},
     "output_type": "display_data"
    },
    {
     "data": {
      "text/html": [
       "<table class=\"dataframe\">\n",
       "<caption>A data.frame: 3 × 4</caption>\n",
       "<thead>\n",
       "\t<tr><th scope=col>p_value</th><th scope=col>mean_diff_c2_sloc_scolor_index</th><th scope=col>mean_diff_c(c1_sloc_scolor_index, c0_sloc_scolor_index)</th><th scope=col>ttest_type</th></tr>\n",
       "\t<tr><th scope=col>&lt;dbl&gt;</th><th scope=col>&lt;dbl&gt;</th><th scope=col>&lt;dbl&gt;</th><th scope=col>&lt;chr&gt;</th></tr>\n",
       "</thead>\n",
       "<tbody>\n",
       "\t<tr><td>0.1506432</td><td>23.99541</td><td>14.42322</td><td>two.sided</td></tr>\n",
       "\t<tr><td>0.9246784</td><td>23.99541</td><td>14.42322</td><td>less     </td></tr>\n",
       "\t<tr><td>0.0753216</td><td>23.99541</td><td>14.42322</td><td>greater  </td></tr>\n",
       "</tbody>\n",
       "</table>\n"
      ],
      "text/latex": [
       "A data.frame: 3 × 4\n",
       "\\begin{tabular}{llll}\n",
       " p\\_value & mean\\_diff\\_c2\\_sloc\\_scolor\\_index & mean\\_diff\\_c(c1\\_sloc\\_scolor\\_index, c0\\_sloc\\_scolor\\_index) & ttest\\_type\\\\\n",
       " <dbl> & <dbl> & <dbl> & <chr>\\\\\n",
       "\\hline\n",
       "\t 0.1506432 & 23.99541 & 14.42322 & two.sided\\\\\n",
       "\t 0.9246784 & 23.99541 & 14.42322 & less     \\\\\n",
       "\t 0.0753216 & 23.99541 & 14.42322 & greater  \\\\\n",
       "\\end{tabular}\n"
      ],
      "text/markdown": [
       "\n",
       "A data.frame: 3 × 4\n",
       "\n",
       "| p_value &lt;dbl&gt; | mean_diff_c2_sloc_scolor_index &lt;dbl&gt; | mean_diff_c(c1_sloc_scolor_index, c0_sloc_scolor_index) &lt;dbl&gt; | ttest_type &lt;chr&gt; |\n",
       "|---|---|---|---|\n",
       "| 0.1506432 | 23.99541 | 14.42322 | two.sided |\n",
       "| 0.9246784 | 23.99541 | 14.42322 | less      |\n",
       "| 0.0753216 | 23.99541 | 14.42322 | greater   |\n",
       "\n"
      ],
      "text/plain": [
       "  p_value   mean_diff_c2_sloc_scolor_index\n",
       "1 0.1506432 23.99541                      \n",
       "2 0.9246784 23.99541                      \n",
       "3 0.0753216 23.99541                      \n",
       "  mean_diff_c(c1_sloc_scolor_index, c0_sloc_scolor_index) ttest_type\n",
       "1 14.42322                                                two.sided \n",
       "2 14.42322                                                less      \n",
       "3 14.42322                                                greater   "
      ]
     },
     "metadata": {},
     "output_type": "display_data"
    }
   ],
   "source": [
    "ttest_two_type_trials_diffRT(\n",
    "    add_conflict_type_data,\n",
    "    c2_sloc_scolor_index, c1_sloc_scolor_index\n",
    ")\n",
    "ttest_two_type_trials_diffRT(\n",
    "    add_conflict_type_data,\n",
    "    c2_sloc_scolor_index, c0_sloc_scolor_index\n",
    ")\n",
    "ttest_two_type_trials_diffRT(\n",
    "    add_conflict_type_data,\n",
    "    c1_sloc_scolor_index, c0_sloc_scolor_index\n",
    ")\n",
    "ttest_two_type_trials_diffRT(\n",
    "    add_conflict_type_data,\n",
    "    c0_sloc_scolor_index, c(c1_sloc_scolor_index, c2_sloc_scolor_index)\n",
    ")\n",
    "ttest_two_type_trials_diffRT(\n",
    "    add_conflict_type_data, \n",
    "    c2_sloc_scolor_index, c(c1_sloc_scolor_index, c0_sloc_scolor_index)\n",
    ")"
   ]
  },
  {
   "cell_type": "markdown",
   "metadata": {},
   "source": [
    "上述结果可以反映出, 在组间比较中, 冲突程度大于 0 与小于 0 , 其 diff RT 的差异显著. 而在小于或大于 threshold 下, diff RT 的差异则没有那么显著.\n",
    "\n",
    "考虑不显著的原因:\n",
    "\n",
    "1. 数据不满足正态分布前提\n",
    "2. 小于 threshold 的数据量太少\n",
    "3. 真的不存在差异\n",
    "\n",
    "我们接下来看一下各组数据的正态性如何."
   ]
  },
  {
   "cell_type": "code",
   "execution_count": 11,
   "metadata": {
    "tags": []
   },
   "outputs": [
    {
     "data": {
      "image/png": "[encoded data removed]",
      "text/plain": [
       "Plot with title “density.default(x = add_conflict_type_data$RT[c0_sloc_scolor_index] - ”",
       "Plot with title “    add_conflict_type_data$RT[c0_sloc_scolor_index - 1])”"
      ]
     },
     "metadata": {
      "image/png": {
       "height": 420,
       "width": 420
      }
     },
     "output_type": "display_data"
    }
   ],
   "source": [
    "plot(density(add_conflict_type_data$RT[c0_sloc_scolor_index] - add_conflict_type_data$RT[c0_sloc_scolor_index - 1]))"
   ]
  },
  {
   "cell_type": "markdown",
   "metadata": {},
   "source": [
    "正态性从图上看还是满足的. 那么接下来考虑样本量差异的问题. 我们选择使用置换检验来尝试解决这个问题."
   ]
  },
  {
   "cell_type": "code",
   "execution_count": 12,
   "metadata": {},
   "outputs": [
    {
     "name": "stderr",
     "output_type": "stream",
     "text": [
      "Loading required package: survival\n",
      "\n"
     ]
    }
   ],
   "source": [
    "library(coin)"
   ]
  },
  {
   "cell_type": "code",
   "execution_count": 27,
   "metadata": {},
   "outputs": [],
   "source": [
    "permute_two_type_trials_diffRT <- function(input_dataframe, index1, index2) {\n",
    "    x_name <- paste0(\"mean_diff_\", deparse(substitute(index1)))\n",
    "    y_name <- paste0(\"mean_diff_\", deparse(substitute(index2)))\n",
    "\n",
    "    vector_1 <- input_dataframe[index1 - 1, ]$RT - input_dataframe[index1, ]$RT\n",
    "    vector_2 <- input_dataframe[index2 - 1, ]$RT - input_dataframe[index2, ]$RT\n",
    "    levels <- factor(c(rep(\"index1\", length(vector_1)), rep(\"index2\", length(vector_2))))\n",
    "    test_data <- data.frame(value = c(vector_1, vector_2), levels)\n",
    "\n",
    "    result <- coin::oneway_test(value~levels, test_data)\n",
    "\n",
    "    return(result)\n",
    "}"
   ]
  },
  {
   "cell_type": "code",
   "execution_count": 28,
   "metadata": {},
   "outputs": [
    {
     "data": {
      "text/plain": [
       "\n",
       "\tAsymptotic Two-Sample Fisher-Pitman Permutation Test\n",
       "\n",
       "data:  value by levels (index1, index2)\n",
       "Z = 0.42438, p-value = 0.6713\n",
       "alternative hypothesis: true mu is not equal to 0\n"
      ]
     },
     "metadata": {},
     "output_type": "display_data"
    },
    {
     "data": {
      "text/plain": [
       "\n",
       "\tAsymptotic Two-Sample Fisher-Pitman Permutation Test\n",
       "\n",
       "data:  value by levels (index1, index2)\n",
       "Z = 1.5817, p-value = 0.1137\n",
       "alternative hypothesis: true mu is not equal to 0\n"
      ]
     },
     "metadata": {},
     "output_type": "display_data"
    },
    {
     "data": {
      "text/plain": [
       "\n",
       "\tAsymptotic Two-Sample Fisher-Pitman Permutation Test\n",
       "\n",
       "data:  value by levels (index1, index2)\n",
       "Z = 1.3995, p-value = 0.1617\n",
       "alternative hypothesis: true mu is not equal to 0\n"
      ]
     },
     "metadata": {},
     "output_type": "display_data"
    },
    {
     "data": {
      "text/plain": [
       "\n",
       "\tAsymptotic Two-Sample Fisher-Pitman Permutation Test\n",
       "\n",
       "data:  value by levels (index1, index2)\n",
       "Z = -1.9152, p-value = 0.05547\n",
       "alternative hypothesis: true mu is not equal to 0\n"
      ]
     },
     "metadata": {},
     "output_type": "display_data"
    },
    {
     "data": {
      "text/plain": [
       "\n",
       "\tAsymptotic Two-Sample Fisher-Pitman Permutation Test\n",
       "\n",
       "data:  value by levels (index1, index2)\n",
       "Z = 1.3781, p-value = 0.1682\n",
       "alternative hypothesis: true mu is not equal to 0\n"
      ]
     },
     "metadata": {},
     "output_type": "display_data"
    }
   ],
   "source": [
    "permute_two_type_trials_diffRT(\n",
    "    add_conflict_type_data,\n",
    "    c2_sloc_scolor_index, c1_sloc_scolor_index\n",
    ")\n",
    "permute_two_type_trials_diffRT(\n",
    "    add_conflict_type_data,\n",
    "    c2_sloc_scolor_index, c0_sloc_scolor_index\n",
    ")\n",
    "permute_two_type_trials_diffRT(\n",
    "    add_conflict_type_data,\n",
    "    c1_sloc_scolor_index, c0_sloc_scolor_index\n",
    ")\n",
    "permute_two_type_trials_diffRT(\n",
    "    add_conflict_type_data,\n",
    "    c0_sloc_scolor_index, c(c1_sloc_scolor_index, c2_sloc_scolor_index)\n",
    ")\n",
    "permute_two_type_trials_diffRT(\n",
    "    add_conflict_type_data, \n",
    "    c2_sloc_scolor_index, c(c1_sloc_scolor_index, c0_sloc_scolor_index)\n",
    ")"
   ]
  },
  {
   "cell_type": "markdown",
   "metadata": {},
   "source": [
    "从当前的结果来看, 明显是当冲突水平大于或小于0之间, 存在明显的行为差异. 考虑到老师的参数估计中没有考虑 threshold 为 0 的情况, 我们重新估计一下这种条件后的 MSE 结果. 并且可以看一下在冲突水平大于或小于 0 间, fMRI 的结果是否存在差异."
   ]
  }
 ],
 "metadata": {
  "kernelspec": {
   "display_name": "R",
   "language": "R",
   "name": "ir"
  },
  "language_info": {
   "codemirror_mode": "r",
   "file_extension": ".r",
   "mimetype": "text/x-r-source",
   "name": "R",
   "pygments_lexer": "r",
   "version": "4.0.4"
  }
 },
 "nbformat": 4,
 "nbformat_minor": 4
}
