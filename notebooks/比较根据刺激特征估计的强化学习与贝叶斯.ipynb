{
 "cells": [
  {
   "cell_type": "markdown",
   "metadata": {},
   "source": [
    "## 数据准备"
   ]
  },
  {
   "cell_type": "code",
   "execution_count": 15,
   "metadata": {
    "vscode": {
     "languageId": "r"
    }
   },
   "outputs": [
    {
     "name": "stderr",
     "output_type": "stream",
     "text": [
      "\u001b[1mRows: \u001b[22m\u001b[34m30233\u001b[39m \u001b[1mColumns: \u001b[22m\u001b[34m58\u001b[39m\n",
      "\u001b[36m──\u001b[39m \u001b[1mColumn specification\u001b[22m \u001b[36m────────────────────────────────────────────────────────\u001b[39m\n",
      "\u001b[1mDelimiter:\u001b[22m \",\"\n",
      "\u001b[31mchr\u001b[39m (10): stim_color, stim_loc, Type, hand, bias, hand_bias_num, Subject, PC...\n",
      "\u001b[32mdbl\u001b[39m (48): Response, RT, Trial, prop, prop_factor, condition_factor, block, t...\n",
      "\n",
      "\u001b[36mℹ\u001b[39m Use `spec()` to retrieve the full column specification for this data.\n",
      "\u001b[36mℹ\u001b[39m Specify the column types or set `show_col_types = FALSE` to quiet this message.\n"
     ]
    },
    {
     "name": "stdout",
     "output_type": "stream",
     "text": [
      "Rows: 29,159\n",
      "Columns: 58\n",
      "Groups: Subject_num, prop, congruency [128]\n",
      "$ stim_color         \u001b[3m\u001b[90m<chr>\u001b[39m\u001b[23m \"red\", \"red\", \"red\", \"green\", \"green\", \"green\", \"re…\n",
      "$ stim_loc           \u001b[3m\u001b[90m<chr>\u001b[39m\u001b[23m \"left\", \"left\", \"left\", \"right\", \"right\", \"right\", …\n",
      "$ Type               \u001b[3m\u001b[90m<chr>\u001b[39m\u001b[23m \"hit\", \"hit\", \"hit\", \"hit\", \"hit\", \"hit\", \"hit\", \"h…\n",
      "$ Response           \u001b[3m\u001b[90m<dbl>\u001b[39m\u001b[23m 0, 0, 0, 1, 1, 1, 0, 0, 1, 1, 1, 0, 1, 1, 1, 0, 0, …\n",
      "$ hand               \u001b[3m\u001b[90m<chr>\u001b[39m\u001b[23m \"left\", \"left\", \"left\", \"right\", \"right\", \"right\", …\n",
      "$ bias               \u001b[3m\u001b[90m<chr>\u001b[39m\u001b[23m \"bias\", \"bias\", \"bias\", \"bias\", \"bias\", \"bias\", \"bi…\n",
      "$ hand_bias_num      \u001b[3m\u001b[90m<chr>\u001b[39m\u001b[23m \"0_0\", \"0_0\", \"0_0\", \"1_0\", \"1_0\", \"1_0\", \"0_0\", \"0…\n",
      "$ RT                 \u001b[3m\u001b[90m<dbl>\u001b[39m\u001b[23m 682.6, 391.8, 404.8, 369.6, 392.5, 325.8, 491.0, 39…\n",
      "$ Subject            \u001b[3m\u001b[90m<chr>\u001b[39m\u001b[23m \"sub01_Yangmiao\", \"sub01_Yangmiao\", \"sub01_Yangmiao…\n",
      "$ Trial              \u001b[3m\u001b[90m<dbl>\u001b[39m\u001b[23m 2, 3, 4, 5, 6, 7, 8, 9, 10, 11, 12, 13, 14, 15, 16,…\n",
      "$ prop               \u001b[3m\u001b[90m<dbl>\u001b[39m\u001b[23m 80, 80, 80, 80, 80, 80, 80, 80, 80, 80, 80, 80, 80,…\n",
      "$ prop_factor        \u001b[3m\u001b[90m<dbl>\u001b[39m\u001b[23m 1, 1, 1, 1, 1, 1, 1, 1, 1, 1, 1, 1, 1, 1, 1, 1, 1, …\n",
      "$ condition_factor   \u001b[3m\u001b[90m<dbl>\u001b[39m\u001b[23m 0, 0, 0, 0, 0, 0, 0, 0, 0, 0, 0, 0, 0, 0, 0, 0, 0, …\n",
      "$ PC_factor          \u001b[3m\u001b[90m<chr>\u001b[39m\u001b[23m \"0_1_1\", \"0_1_1\", \"0_1_1\", \"0_1_1\", \"0_1_1\", \"0_1_1…\n",
      "$ condition          \u001b[3m\u001b[90m<chr>\u001b[39m\u001b[23m \"v\", \"v\", \"v\", \"v\", \"v\", \"v\", \"v\", \"v\", \"v\", \"v\", \"…\n",
      "$ block              \u001b[3m\u001b[90m<dbl>\u001b[39m\u001b[23m 1, 1, 1, 1, 1, 1, 1, 1, 1, 1, 1, 1, 1, 1, 1, 1, 1, …\n",
      "$ time_stamp         \u001b[3m\u001b[90m<dbl>\u001b[39m\u001b[23m 1553158380, 1553158380, 1553158380, 1553158380, 155…\n",
      "$ onset              \u001b[3m\u001b[90m<dbl>\u001b[39m\u001b[23m 2.63050, 5.17190, 7.71330, 10.25470, 12.67115, 15.2…\n",
      "$ response_onset     \u001b[3m\u001b[90m<dbl>\u001b[39m\u001b[23m 2.97180, 5.36780, 7.91570, 10.43950, 12.86740, 15.3…\n",
      "$ Subject_num        \u001b[3m\u001b[90m<dbl>\u001b[39m\u001b[23m 1, 1, 1, 1, 1, 1, 1, 1, 1, 1, 1, 1, 1, 1, 1, 1, 1, …\n",
      "$ congruency_num     \u001b[3m\u001b[90m<dbl>\u001b[39m\u001b[23m 1, 1, 1, 1, 1, 1, 1, 1, -1, 1, -1, -1, 1, -1, -1, -…\n",
      "$ congruency         \u001b[3m\u001b[90m<chr>\u001b[39m\u001b[23m \"con\", \"con\", \"con\", \"con\", \"con\", \"con\", \"con\", \"c…\n",
      "$ con_num            \u001b[3m\u001b[90m<dbl>\u001b[39m\u001b[23m 1, 1, 1, 1, 1, 1, 1, 1, 0, 1, 0, 0, 1, 0, 0, 0, 0, …\n",
      "$ congruency_factor  \u001b[3m\u001b[90m<dbl>\u001b[39m\u001b[23m 1, 1, 1, 1, 1, 1, 1, 1, 0, 1, 0, 0, 1, 0, 0, 0, 0, …\n",
      "$ inc_num            \u001b[3m\u001b[90m<dbl>\u001b[39m\u001b[23m 0, 0, 0, 0, 0, 0, 0, 0, 1, 0, 1, 1, 0, 1, 1, 1, 1, …\n",
      "$ correct_action     \u001b[3m\u001b[90m<dbl>\u001b[39m\u001b[23m 0, 0, 0, 1, 1, 1, 0, 0, 1, 1, 1, 0, 1, 1, 1, 0, 0, …\n",
      "$ run                \u001b[3m\u001b[90m<dbl>\u001b[39m\u001b[23m 1, 1, 1, 1, 1, 1, 1, 1, 1, 1, 1, 1, 1, 1, 1, 1, 1, …\n",
      "$ bl_sr_ll           \u001b[3m\u001b[90m<dbl>\u001b[39m\u001b[23m 0.6638275, 0.6706384, 0.6730093, 0.6715001, 0.66635…\n",
      "$ bl_sr_lr           \u001b[3m\u001b[90m<dbl>\u001b[39m\u001b[23m 0.3361725, 0.3293616, 0.3269907, 0.3284999, 0.33364…\n",
      "$ bl_sr_rl           \u001b[3m\u001b[90m<dbl>\u001b[39m\u001b[23m 0.3294461, 0.3218822, 0.3166931, 0.3105760, 0.30437…\n",
      "$ bl_sr_rr           \u001b[3m\u001b[90m<dbl>\u001b[39m\u001b[23m 0.6705539, 0.6781178, 0.6833069, 0.6894240, 0.69562…\n",
      "$ bl_sr_v            \u001b[3m\u001b[90m<dbl>\u001b[39m\u001b[23m -4.516358, -4.515912, -4.515418, -4.515135, -4.5157…\n",
      "$ bl_sr_r_selected   \u001b[3m\u001b[90m<dbl>\u001b[39m\u001b[23m 0.6652204, 0.6714414, 0.6742184, 0.6954820, 0.70093…\n",
      "$ bl_sr_PE           \u001b[3m\u001b[90m<dbl>\u001b[39m\u001b[23m 0.3347796, 0.3285586, 0.3257816, 0.3045180, 0.29906…\n",
      "$ bl_sr_PExV         \u001b[3m\u001b[90m<dbl>\u001b[39m\u001b[23m -1.511985, -1.483742, -1.471040, -1.374940, -1.3504…\n",
      "$ bl_ab_r_con        \u001b[3m\u001b[90m<dbl>\u001b[39m\u001b[23m 0.6533179, 0.6771406, 0.6931561, 0.7034309, 0.70854…\n",
      "$ bl_ab_r_inc        \u001b[3m\u001b[90m<dbl>\u001b[39m\u001b[23m 0.3466821, 0.3228594, 0.3068439, 0.2965691, 0.29145…\n",
      "$ bl_ab_v            \u001b[3m\u001b[90m<dbl>\u001b[39m\u001b[23m 3.949235, 3.949160, 3.949401, 3.948664, 3.948072, 3…\n",
      "$ bl_ab_r_selected   \u001b[3m\u001b[90m<dbl>\u001b[39m\u001b[23m 0.6533179, 0.6771406, 0.6931561, 0.7034309, 0.70854…\n",
      "$ bl_ab_PE           \u001b[3m\u001b[90m<dbl>\u001b[39m\u001b[23m 0.3466821, 0.3228594, 0.3068439, 0.2965691, 0.29145…\n",
      "$ rl_ab_p            \u001b[3m\u001b[90m<dbl>\u001b[39m\u001b[23m 0.6000000, 0.4800000, 0.3840000, 0.3072000, 0.24576…\n",
      "$ rl_ab_v_p          \u001b[3m\u001b[90m<dbl>\u001b[39m\u001b[23m 0.62000000, 0.47120000, 0.35811200, 0.27216512, 0.2…\n",
      "$ rl_ab_v_pe         \u001b[3m\u001b[90m<dbl>\u001b[39m\u001b[23m 0.3800000, 0.5288000, 0.6418880, 0.7278349, 0.79315…\n",
      "$ rl_sr_p            \u001b[3m\u001b[90m<dbl>\u001b[39m\u001b[23m 0.5000000, 0.4050000, 0.3280500, 0.4100000, 0.51620…\n",
      "$ rl_ab_p_selected   \u001b[3m\u001b[90m<dbl>\u001b[39m\u001b[23m 0.4000000, 0.5200000, 0.6160000, 0.6928000, 0.75424…\n",
      "$ rl_sr_p_selected   \u001b[3m\u001b[90m<dbl>\u001b[39m\u001b[23m 0.5000000, 0.5950000, 0.6719500, 0.4100000, 0.51620…\n",
      "$ rl_ab_v_p_selected \u001b[3m\u001b[90m<dbl>\u001b[39m\u001b[23m 0.38000000, 0.52880000, 0.64188800, 0.72783488, 0.7…\n",
      "$ rl_sr_v_p          \u001b[3m\u001b[90m<dbl>\u001b[39m\u001b[23m 0.5000000, 0.3900000, 0.3042000, 0.3900000, 0.52420…\n",
      "$ rl_sr_v_pe         \u001b[3m\u001b[90m<dbl>\u001b[39m\u001b[23m 0.5000000, 0.3900000, 0.3042000, 0.6100000, 0.47580…\n",
      "$ rl_sr_v_p_selected \u001b[3m\u001b[90m<dbl>\u001b[39m\u001b[23m 0.5000000, 0.6100000, 0.6958000, 0.3900000, 0.52420…\n",
      "$ rl_sr_ll           \u001b[3m\u001b[90m<dbl>\u001b[39m\u001b[23m 0.5000000, 0.3100000, 0.2511000, 0.2033910, 0.26572…\n",
      "$ rl_sr_lr           \u001b[3m\u001b[90m<dbl>\u001b[39m\u001b[23m 0.5000000, 0.6900000, 0.7489000, 0.7966090, 0.73427…\n",
      "$ rl_sr_rl           \u001b[3m\u001b[90m<dbl>\u001b[39m\u001b[23m 0.3200000, 0.4100000, 0.4100000, 0.4100000, 0.62240…\n",
      "$ rl_sr_rr           \u001b[3m\u001b[90m<dbl>\u001b[39m\u001b[23m 0.6800000, 0.5900000, 0.5900000, 0.5900000, 0.37760…\n",
      "$ rl_sr_v_ll         \u001b[3m\u001b[90m<dbl>\u001b[39m\u001b[23m 0.5000000, 0.2800000, 0.2184000, 0.1703520, 0.23727…\n",
      "$ rl_sr_v_lr         \u001b[3m\u001b[90m<dbl>\u001b[39m\u001b[23m 0.5000000, 0.7200000, 0.7816000, 0.8296480, 0.76272…\n",
      "$ rl_sr_v_rl         \u001b[3m\u001b[90m<dbl>\u001b[39m\u001b[23m 0.2800000, 0.3900000, 0.3900000, 0.3900000, 0.65840…\n",
      "$ rl_sr_v_rr         \u001b[3m\u001b[90m<dbl>\u001b[39m\u001b[23m 0.7200000, 0.6100000, 0.6100000, 0.6100000, 0.34160…\n"
     ]
    }
   ],
   "source": [
    "library(tidyverse)\n",
    "library(fastDummies)\n",
    "all_data = read_csv(\"/Users/dddd1007/project2git/cognitive_control_model/data/input/all_data_with_RL_BL_estimate_result.csv\")\n",
    "all_data_without_error <- all_data %>%\n",
    "                            group_by(Subject_num, prop, congruency) %>%\n",
    "                            filter(Type == \"hit\") %>%\n",
    "                            filter(abs(RT - mean(RT)) < (sd(RT) * 3))\n",
    "sub_num_list <- unique(all_data_without_error$Subject_num)\n",
    "glimpse(all_data_without_error)\n",
    "mse <- function(sm) \n",
    "    mean(sm$residuals^2)"
   ]
  },
  {
   "cell_type": "code",
   "execution_count": 11,
   "metadata": {
    "vscode": {
     "languageId": "r"
    }
   },
   "outputs": [],
   "source": [
    "result_list <- list()\n",
    "sub_count <- 1\n",
    "for (i in sub_num_list) {\n",
    "    tmp_data <- filter(all_data_without_error, Subject_num == i)\n",
    "    mini_num <- 1\n",
    "    mini_block <- vector(mode = \"numeric\", length = nrow(tmp_data))\n",
    "    mini_block[1] <- 1\n",
    "    for (line_num in 2:nrow(tmp_data)) {\n",
    "        if (tmp_data$prop[line_num] != tmp_data$prop[line_num - 1]) {\n",
    "            mini_num <- mini_num + 1\n",
    "        }\n",
    "        mini_block[line_num] <- mini_num\n",
    "    }\n",
    "    tmp_data$mini_block <- mini_block\n",
    "    result_list[[sub_count]] <- tmp_data\n",
    "    sub_count <- sub_count + 1\n",
    "}\n",
    "all_data_miniblock <- bind_rows(result_list, .id = \"column_label\")"
   ]
  },
  {
   "cell_type": "markdown",
   "metadata": {},
   "source": [
    "## 估计概率与刺激特征之间的关系"
   ]
  },
  {
   "cell_type": "code",
   "execution_count": 36,
   "metadata": {
    "vscode": {
     "languageId": "r"
    }
   },
   "outputs": [],
   "source": [
    "# 和刺激特征的比较\n",
    "aic_bl_ab   <- vector(mode = \"numeric\", length(sub_num_list))\n",
    "aic_rl_ab   <- vector(mode = \"numeric\", length(sub_num_list))\n",
    "aic_rl_ab_v <- vector(mode = \"numeric\", length(sub_num_list))\n",
    "aic_rl_sr   <- vector(mode = \"numeric\", length(sub_num_list))\n",
    "\n",
    "for (i in seq_len(length(sub_num_list))) {\n",
    "    single_sub_data <- all_data_without_error %>%\n",
    "                        filter(Subject_num == sub_num_list[i])\n",
    "    aic_bl_ab[i]   <- AIC(glm(congruency_num ~ bl_ab_r_con, data = single_sub_data, family = binomial))\n",
    "    # aic_bl_sr[i]   <- AIC(glm(correct_action ~ bl_sr_r_left_hand, data = single_sub_data, family = binomial))\n",
    "    aic_rl_ab[i]   <- AIC(glm(congruency_num ~ rl_ab_p, data = single_sub_data, family = binomial))\n",
    "    aic_rl_ab_v[i] <- AIC(glm(congruency_num ~ rl_ab_v_p, data = single_sub_data, family = binomial))\n",
    "    aic_rl_sr[i]   <- AIC(glm(correct_action ~ rl_sr_p, data = single_sub_data, family = binomial))\n",
    "}\n",
    "\n",
    "stim_aic <- data.frame(Subject_num = sub_num_list,\n",
    "                     bl_ab = aic_bl_ab,\n",
    "                     rl_ab = aic_rl_ab,\n",
    "                     rl_ab_v = aic_rl_ab_v,\n",
    "                     rl_sr = aic_rl_sr)"
   ]
  },
  {
   "cell_type": "markdown",
   "metadata": {},
   "source": [
    "## 与反应时之间的变量关系"
   ]
  },
  {
   "cell_type": "markdown",
   "metadata": {},
   "source": [
    "### 添加 Run 作为 截距"
   ]
  },
  {
   "cell_type": "code",
   "execution_count": 21,
   "metadata": {
    "vscode": {
     "languageId": "r"
    }
   },
   "outputs": [
    {
     "data": {
      "text/html": [
       "<table class=\"dataframe\">\n",
       "<caption>A data.frame: 32 × 5</caption>\n",
       "<thead>\n",
       "\t<tr><th scope=col>Subject_num</th><th scope=col>bl_ab</th><th scope=col>bl_sr</th><th scope=col>rl_ab</th><th scope=col>rl_sr</th></tr>\n",
       "\t<tr><th scope=col>&lt;dbl&gt;</th><th scope=col>&lt;dbl&gt;</th><th scope=col>&lt;dbl&gt;</th><th scope=col>&lt;dbl&gt;</th><th scope=col>&lt;dbl&gt;</th></tr>\n",
       "</thead>\n",
       "<tbody>\n",
       "\t<tr><td> 1</td><td> 5127.077</td><td> 5184.876</td><td> 5006.080</td><td> 5119.739</td></tr>\n",
       "\t<tr><td> 2</td><td> 7058.248</td><td> 7023.873</td><td> 6842.396</td><td> 6805.599</td></tr>\n",
       "\t<tr><td> 4</td><td> 5065.043</td><td> 5070.463</td><td> 5018.348</td><td> 5040.130</td></tr>\n",
       "\t<tr><td> 5</td><td>21263.719</td><td>21286.173</td><td>21326.422</td><td>21430.748</td></tr>\n",
       "\t<tr><td> 7</td><td> 6319.639</td><td> 6332.678</td><td> 6249.722</td><td> 6266.922</td></tr>\n",
       "\t<tr><td> 9</td><td> 5210.242</td><td> 5201.070</td><td> 5150.214</td><td> 5104.041</td></tr>\n",
       "\t<tr><td>10</td><td>14592.708</td><td>14579.201</td><td>14564.272</td><td>14559.574</td></tr>\n",
       "\t<tr><td>11</td><td>14139.060</td><td>14224.038</td><td>14102.367</td><td>14140.712</td></tr>\n",
       "\t<tr><td>12</td><td>29537.089</td><td>29687.708</td><td>29264.133</td><td>29696.854</td></tr>\n",
       "\t<tr><td>13</td><td>28099.293</td><td>28174.393</td><td>27959.969</td><td>27856.119</td></tr>\n",
       "\t<tr><td>14</td><td> 4279.949</td><td> 4279.935</td><td> 4261.869</td><td> 4250.486</td></tr>\n",
       "\t<tr><td>15</td><td> 7991.919</td><td> 7989.324</td><td> 7970.685</td><td> 7945.370</td></tr>\n",
       "\t<tr><td>16</td><td>10466.857</td><td>10565.591</td><td>10425.879</td><td>10614.030</td></tr>\n",
       "\t<tr><td>17</td><td>12225.343</td><td>12264.613</td><td>12095.814</td><td>12139.796</td></tr>\n",
       "\t<tr><td>18</td><td> 2007.592</td><td> 2021.349</td><td> 1991.076</td><td> 2010.977</td></tr>\n",
       "\t<tr><td>19</td><td>20467.802</td><td>20620.703</td><td>20463.873</td><td>20502.930</td></tr>\n",
       "\t<tr><td>20</td><td> 9008.518</td><td> 9018.940</td><td> 8994.094</td><td> 8994.082</td></tr>\n",
       "\t<tr><td>21</td><td>18888.293</td><td>18884.835</td><td>18921.786</td><td>18937.381</td></tr>\n",
       "\t<tr><td>22</td><td>22728.165</td><td>22586.906</td><td>23053.277</td><td>22996.933</td></tr>\n",
       "\t<tr><td>23</td><td>14480.410</td><td>14477.431</td><td>14472.932</td><td>14468.431</td></tr>\n",
       "\t<tr><td>24</td><td>10955.670</td><td>11016.391</td><td>10793.557</td><td>11149.715</td></tr>\n",
       "\t<tr><td>25</td><td> 3713.632</td><td> 3724.799</td><td> 3651.249</td><td> 3671.714</td></tr>\n",
       "\t<tr><td>26</td><td> 7611.382</td><td> 7614.560</td><td> 7607.517</td><td> 7593.111</td></tr>\n",
       "\t<tr><td>28</td><td> 2396.459</td><td> 2396.133</td><td> 2388.548</td><td> 2392.479</td></tr>\n",
       "\t<tr><td>29</td><td> 7584.551</td><td> 7567.179</td><td> 7576.943</td><td> 7536.046</td></tr>\n",
       "\t<tr><td>30</td><td>24058.293</td><td>23986.284</td><td>24006.859</td><td>23913.614</td></tr>\n",
       "\t<tr><td>31</td><td> 6608.994</td><td> 6603.485</td><td> 6532.709</td><td> 6472.816</td></tr>\n",
       "\t<tr><td>32</td><td> 8054.665</td><td> 8027.775</td><td> 7970.931</td><td> 7981.201</td></tr>\n",
       "\t<tr><td>33</td><td>13999.932</td><td>14030.652</td><td>14024.825</td><td>13972.534</td></tr>\n",
       "\t<tr><td>34</td><td> 2588.416</td><td> 2581.729</td><td> 2544.324</td><td> 2525.923</td></tr>\n",
       "\t<tr><td>35</td><td>18494.358</td><td>18533.223</td><td>18516.629</td><td>18577.261</td></tr>\n",
       "\t<tr><td>36</td><td> 3021.303</td><td> 3019.309</td><td> 2950.752</td><td> 3027.270</td></tr>\n",
       "</tbody>\n",
       "</table>\n"
      ],
      "text/latex": [
       "A data.frame: 32 × 5\n",
       "\\begin{tabular}{lllll}\n",
       " Subject\\_num & bl\\_ab & bl\\_sr & rl\\_ab & rl\\_sr\\\\\n",
       " <dbl> & <dbl> & <dbl> & <dbl> & <dbl>\\\\\n",
       "\\hline\n",
       "\t  1 &  5127.077 &  5184.876 &  5006.080 &  5119.739\\\\\n",
       "\t  2 &  7058.248 &  7023.873 &  6842.396 &  6805.599\\\\\n",
       "\t  4 &  5065.043 &  5070.463 &  5018.348 &  5040.130\\\\\n",
       "\t  5 & 21263.719 & 21286.173 & 21326.422 & 21430.748\\\\\n",
       "\t  7 &  6319.639 &  6332.678 &  6249.722 &  6266.922\\\\\n",
       "\t  9 &  5210.242 &  5201.070 &  5150.214 &  5104.041\\\\\n",
       "\t 10 & 14592.708 & 14579.201 & 14564.272 & 14559.574\\\\\n",
       "\t 11 & 14139.060 & 14224.038 & 14102.367 & 14140.712\\\\\n",
       "\t 12 & 29537.089 & 29687.708 & 29264.133 & 29696.854\\\\\n",
       "\t 13 & 28099.293 & 28174.393 & 27959.969 & 27856.119\\\\\n",
       "\t 14 &  4279.949 &  4279.935 &  4261.869 &  4250.486\\\\\n",
       "\t 15 &  7991.919 &  7989.324 &  7970.685 &  7945.370\\\\\n",
       "\t 16 & 10466.857 & 10565.591 & 10425.879 & 10614.030\\\\\n",
       "\t 17 & 12225.343 & 12264.613 & 12095.814 & 12139.796\\\\\n",
       "\t 18 &  2007.592 &  2021.349 &  1991.076 &  2010.977\\\\\n",
       "\t 19 & 20467.802 & 20620.703 & 20463.873 & 20502.930\\\\\n",
       "\t 20 &  9008.518 &  9018.940 &  8994.094 &  8994.082\\\\\n",
       "\t 21 & 18888.293 & 18884.835 & 18921.786 & 18937.381\\\\\n",
       "\t 22 & 22728.165 & 22586.906 & 23053.277 & 22996.933\\\\\n",
       "\t 23 & 14480.410 & 14477.431 & 14472.932 & 14468.431\\\\\n",
       "\t 24 & 10955.670 & 11016.391 & 10793.557 & 11149.715\\\\\n",
       "\t 25 &  3713.632 &  3724.799 &  3651.249 &  3671.714\\\\\n",
       "\t 26 &  7611.382 &  7614.560 &  7607.517 &  7593.111\\\\\n",
       "\t 28 &  2396.459 &  2396.133 &  2388.548 &  2392.479\\\\\n",
       "\t 29 &  7584.551 &  7567.179 &  7576.943 &  7536.046\\\\\n",
       "\t 30 & 24058.293 & 23986.284 & 24006.859 & 23913.614\\\\\n",
       "\t 31 &  6608.994 &  6603.485 &  6532.709 &  6472.816\\\\\n",
       "\t 32 &  8054.665 &  8027.775 &  7970.931 &  7981.201\\\\\n",
       "\t 33 & 13999.932 & 14030.652 & 14024.825 & 13972.534\\\\\n",
       "\t 34 &  2588.416 &  2581.729 &  2544.324 &  2525.923\\\\\n",
       "\t 35 & 18494.358 & 18533.223 & 18516.629 & 18577.261\\\\\n",
       "\t 36 &  3021.303 &  3019.309 &  2950.752 &  3027.270\\\\\n",
       "\\end{tabular}\n"
      ],
      "text/markdown": [
       "\n",
       "A data.frame: 32 × 5\n",
       "\n",
       "| Subject_num &lt;dbl&gt; | bl_ab &lt;dbl&gt; | bl_sr &lt;dbl&gt; | rl_ab &lt;dbl&gt; | rl_sr &lt;dbl&gt; |\n",
       "|---|---|---|---|---|\n",
       "|  1 |  5127.077 |  5184.876 |  5006.080 |  5119.739 |\n",
       "|  2 |  7058.248 |  7023.873 |  6842.396 |  6805.599 |\n",
       "|  4 |  5065.043 |  5070.463 |  5018.348 |  5040.130 |\n",
       "|  5 | 21263.719 | 21286.173 | 21326.422 | 21430.748 |\n",
       "|  7 |  6319.639 |  6332.678 |  6249.722 |  6266.922 |\n",
       "|  9 |  5210.242 |  5201.070 |  5150.214 |  5104.041 |\n",
       "| 10 | 14592.708 | 14579.201 | 14564.272 | 14559.574 |\n",
       "| 11 | 14139.060 | 14224.038 | 14102.367 | 14140.712 |\n",
       "| 12 | 29537.089 | 29687.708 | 29264.133 | 29696.854 |\n",
       "| 13 | 28099.293 | 28174.393 | 27959.969 | 27856.119 |\n",
       "| 14 |  4279.949 |  4279.935 |  4261.869 |  4250.486 |\n",
       "| 15 |  7991.919 |  7989.324 |  7970.685 |  7945.370 |\n",
       "| 16 | 10466.857 | 10565.591 | 10425.879 | 10614.030 |\n",
       "| 17 | 12225.343 | 12264.613 | 12095.814 | 12139.796 |\n",
       "| 18 |  2007.592 |  2021.349 |  1991.076 |  2010.977 |\n",
       "| 19 | 20467.802 | 20620.703 | 20463.873 | 20502.930 |\n",
       "| 20 |  9008.518 |  9018.940 |  8994.094 |  8994.082 |\n",
       "| 21 | 18888.293 | 18884.835 | 18921.786 | 18937.381 |\n",
       "| 22 | 22728.165 | 22586.906 | 23053.277 | 22996.933 |\n",
       "| 23 | 14480.410 | 14477.431 | 14472.932 | 14468.431 |\n",
       "| 24 | 10955.670 | 11016.391 | 10793.557 | 11149.715 |\n",
       "| 25 |  3713.632 |  3724.799 |  3651.249 |  3671.714 |\n",
       "| 26 |  7611.382 |  7614.560 |  7607.517 |  7593.111 |\n",
       "| 28 |  2396.459 |  2396.133 |  2388.548 |  2392.479 |\n",
       "| 29 |  7584.551 |  7567.179 |  7576.943 |  7536.046 |\n",
       "| 30 | 24058.293 | 23986.284 | 24006.859 | 23913.614 |\n",
       "| 31 |  6608.994 |  6603.485 |  6532.709 |  6472.816 |\n",
       "| 32 |  8054.665 |  8027.775 |  7970.931 |  7981.201 |\n",
       "| 33 | 13999.932 | 14030.652 | 14024.825 | 13972.534 |\n",
       "| 34 |  2588.416 |  2581.729 |  2544.324 |  2525.923 |\n",
       "| 35 | 18494.358 | 18533.223 | 18516.629 | 18577.261 |\n",
       "| 36 |  3021.303 |  3019.309 |  2950.752 |  3027.270 |\n",
       "\n"
      ],
      "text/plain": [
       "   Subject_num bl_ab     bl_sr     rl_ab     rl_sr    \n",
       "1   1           5127.077  5184.876  5006.080  5119.739\n",
       "2   2           7058.248  7023.873  6842.396  6805.599\n",
       "3   4           5065.043  5070.463  5018.348  5040.130\n",
       "4   5          21263.719 21286.173 21326.422 21430.748\n",
       "5   7           6319.639  6332.678  6249.722  6266.922\n",
       "6   9           5210.242  5201.070  5150.214  5104.041\n",
       "7  10          14592.708 14579.201 14564.272 14559.574\n",
       "8  11          14139.060 14224.038 14102.367 14140.712\n",
       "9  12          29537.089 29687.708 29264.133 29696.854\n",
       "10 13          28099.293 28174.393 27959.969 27856.119\n",
       "11 14           4279.949  4279.935  4261.869  4250.486\n",
       "12 15           7991.919  7989.324  7970.685  7945.370\n",
       "13 16          10466.857 10565.591 10425.879 10614.030\n",
       "14 17          12225.343 12264.613 12095.814 12139.796\n",
       "15 18           2007.592  2021.349  1991.076  2010.977\n",
       "16 19          20467.802 20620.703 20463.873 20502.930\n",
       "17 20           9008.518  9018.940  8994.094  8994.082\n",
       "18 21          18888.293 18884.835 18921.786 18937.381\n",
       "19 22          22728.165 22586.906 23053.277 22996.933\n",
       "20 23          14480.410 14477.431 14472.932 14468.431\n",
       "21 24          10955.670 11016.391 10793.557 11149.715\n",
       "22 25           3713.632  3724.799  3651.249  3671.714\n",
       "23 26           7611.382  7614.560  7607.517  7593.111\n",
       "24 28           2396.459  2396.133  2388.548  2392.479\n",
       "25 29           7584.551  7567.179  7576.943  7536.046\n",
       "26 30          24058.293 23986.284 24006.859 23913.614\n",
       "27 31           6608.994  6603.485  6532.709  6472.816\n",
       "28 32           8054.665  8027.775  7970.931  7981.201\n",
       "29 33          13999.932 14030.652 14024.825 13972.534\n",
       "30 34           2588.416  2581.729  2544.324  2525.923\n",
       "31 35          18494.358 18533.223 18516.629 18577.261\n",
       "32 36           3021.303  3019.309  2950.752  3027.270"
      ]
     },
     "metadata": {},
     "output_type": "display_data"
    }
   ],
   "source": [
    "# 根据反应时比较 AIC, 此时应当用当前s-r对应的p来拟合\n",
    "aic_bl_ab   <- vector(mode = \"numeric\", length(sub_num_list))\n",
    "aic_bl_sr   <- vector(mode = \"numeric\", length(sub_num_list))\n",
    "aic_rl_ab   <- vector(mode = \"numeric\", length(sub_num_list))\n",
    "aic_rl_sr   <- vector(mode = \"numeric\", length(sub_num_list))\n",
    "aic_rl_sr_v <- vector(mode = \"numeric\", length(sub_num_list))\n",
    "\n",
    "for (i in seq_len(length(sub_num_list))) {\n",
    "    single_sub_data <- all_data_without_error %>%\n",
    "                        filter(Subject_num == sub_num_list[i])\n",
    "    single_sub_data$rl_ab_v_pe <- 1 - single_sub_data$rl_ab_p_selected\n",
    "    single_sub_data$rl_sr_v_pe <- 1 - single_sub_data$rl_sr_v_p_selected\n",
    "\n",
    "    tmp_data <- dummy_columns(\n",
    "        filter(\n",
    "            single_sub_data,\n",
    "            Subject_num == sub_num_list[i]\n",
    "        ),\n",
    "        \"run\"\n",
    "    ) %>%\n",
    "        select(-run)\n",
    "    bl_ab_data <- select(tmp_data, RT, bl_ab_PE, congruency_num, hand, starts_with(\"run\"))\n",
    "    model_bl_ab <- lm(RT ~ . -1, data = bl_ab_data)\n",
    "\n",
    "    bl_sr_data <- select(tmp_data, RT, bl_sr_PE, congruency_num, hand, starts_with(\"run\"))\n",
    "    model_bl_sr <- lm(RT ~ . -1, data = bl_sr_data)\n",
    "\n",
    "    rl_ab_data <- select(tmp_data, RT, rl_ab_v_pe, congruency_num, hand, starts_with(\"run\"))\n",
    "    model_rl_ab <- lm(RT ~ . -1, data = rl_ab_data)\n",
    "\n",
    "    rl_sr_data <- select(tmp_data, RT, rl_sr_v_pe, congruency_num, hand, starts_with(\"run\"))\n",
    "    model_rl_sr <- lm(RT ~ . -1, data = rl_sr_data)\n",
    "\n",
    "    aic_bl_ab[i] <- mse(model_bl_ab)\n",
    "    aic_bl_sr[i] <- mse(model_bl_sr)\n",
    "    aic_rl_ab[i] <- mse(model_rl_ab)\n",
    "    aic_rl_sr[i] <- mse(model_rl_sr)\n",
    "    \n",
    "}\n",
    "\n",
    "RT_aic <- data.frame(Subject_num = sub_num_list,\n",
    "                     bl_ab = aic_bl_ab,\n",
    "                     bl_sr = aic_bl_sr,\n",
    "                     rl_ab = aic_rl_ab,\n",
    "                     rl_sr = aic_rl_sr)\n",
    "\n",
    "RT_aic"
   ]
  },
  {
   "cell_type": "code",
   "execution_count": 22,
   "metadata": {
    "vscode": {
     "languageId": "r"
    }
   },
   "outputs": [
    {
     "data": {
      "text/plain": [
       "\n",
       "Call:\n",
       "lm(formula = RT ~ . - 1, data = bl_sr_data)\n",
       "\n",
       "Residuals:\n",
       "     Min       1Q   Median       3Q      Max \n",
       "-121.211  -39.396   -7.159   33.275  183.653 \n",
       "\n",
       "Coefficients: (1 not defined because of singularities)\n",
       "               Estimate Std. Error t value Pr(>|t|)    \n",
       "bl_sr_PE         88.177     11.227   7.854 1.13e-14 ***\n",
       "congruency_num   -4.650      1.848  -2.516   0.0121 *  \n",
       "handleft        348.350      6.444  54.058  < 2e-16 ***\n",
       "handright       350.273      6.418  54.577  < 2e-16 ***\n",
       "run_1            27.146      6.316   4.298 1.91e-05 ***\n",
       "run_2            10.023      6.311   1.588   0.1126    \n",
       "run_3             5.429      6.341   0.856   0.3921    \n",
       "run_4            12.768      6.325   2.019   0.0438 *  \n",
       "run_5            15.039      6.295   2.389   0.0171 *  \n",
       "run_6                NA         NA      NA       NA    \n",
       "---\n",
       "Signif. codes:  0 ‘***’ 0.001 ‘**’ 0.01 ‘*’ 0.05 ‘.’ 0.1 ‘ ’ 1\n",
       "\n",
       "Residual standard error: 55.22 on 914 degrees of freedom\n",
       "Multiple R-squared:  0.981,\tAdjusted R-squared:  0.9808 \n",
       "F-statistic:  5230 on 9 and 914 DF,  p-value: < 2.2e-16\n"
      ]
     },
     "metadata": {},
     "output_type": "display_data"
    }
   ],
   "source": [
    "summary(model_bl_sr)"
   ]
  }
 ],
 "metadata": {
  "interpreter": {
   "hash": "984040fab1ccb5ba6a68235d0db52f534f998eef5bc0a8ef165cb4656f5649ce"
  },
  "kernelspec": {
   "display_name": "R",
   "language": "R",
   "name": "ir"
  },
  "language_info": {
   "codemirror_mode": "r",
   "file_extension": ".r",
   "mimetype": "text/x-r-source",
   "name": "R",
   "pygments_lexer": "r",
   "version": "4.2.1"
  },
  "orig_nbformat": 4
 },
 "nbformat": 4,
 "nbformat_minor": 2
}
