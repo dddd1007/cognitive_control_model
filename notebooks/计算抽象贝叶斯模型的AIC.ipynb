{
 "cells": [
  {
   "cell_type": "code",
   "execution_count": 1,
   "source": [
    "import sys\n",
    "import numpy as np\n",
    "from sklearn.linear_model import LinearRegression\n",
    "import statsmodels.api as sm\n",
    "import cmdstanpy\n",
    "\n",
    "sys.path.append(\"/Users/dddd1007/project2git/cognitive_control_model/scripts/bayesian_learner_model\")\n",
    "\n",
    "import optlearner\n",
    "import pandas as pd"
   ],
   "outputs": [],
   "metadata": {}
  },
  {
   "cell_type": "code",
   "execution_count": 2,
   "source": [
    "all_sub_data = pd.read_csv(\"/Users/dddd1007/project2git/cognitive_control_model/data/input/all_data_with_2a1d1CCC_2a1d1e.csv\")"
   ],
   "outputs": [],
   "metadata": {}
  },
  {
   "cell_type": "markdown",
   "source": [
    "## 计算 Waskom 的模型"
   ],
   "metadata": {}
  },
  {
   "cell_type": "code",
   "execution_count": 3,
   "source": [
    "v_learner = optlearner.VolatilityLearner()\n",
    "s_learner = optlearner.ProbabilityLearner()"
   ],
   "outputs": [],
   "metadata": {}
  },
  {
   "cell_type": "code",
   "execution_count": 34,
   "source": [
    "# 计算抽象概念的 AIC 值\n",
    "AIC_ab_list = []\n",
    "sub_list = np.unique(all_sub_data['Subject_num'].values)\n",
    "for i in sub_list:\n",
    "    temp_sub = all_sub_data[all_sub_data['Subject_num'] == i]\n",
    "    env = [1 if x == 'con' else 0 for x in temp_sub['congruency']]\n",
    "    v_learner.reset()\n",
    "    v_learner.fit(env)\n",
    "    y = temp_sub['RT']\n",
    "    temp_sub['miniblock'] = temp_sub[\"block\"].astype(str) + temp_sub[\"run\"].astype(str)\n",
    "    mini_block = pd.get_dummies(temp_sub[['miniblock']], columns= ['miniblock'])\n",
    "    mini_block['p_hats'] = v_learner.p_hats\n",
    "    print(mini_block.values)\n",
    "\n",
    "    model = sm.OLS(y, mini_block.values).fit()\n",
    "    AIC_ab_list.append(model.aic)"
   ],
   "outputs": [
    {
     "output_type": "stream",
     "name": "stderr",
     "text": [
      "/Users/dddd1007/miniforge3/lib/python3.9/site-packages/pandas/core/frame.py:3607: SettingWithCopyWarning: \n",
      "A value is trying to be set on a copy of a slice from a DataFrame.\n",
      "Try using .loc[row_indexer,col_indexer] = value instead\n",
      "\n",
      "See the caveats in the documentation: https://pandas.pydata.org/pandas-docs/stable/user_guide/indexing.html#returning-a-view-versus-a-copy\n",
      "  self._set_item(key, value)\n"
     ]
    },
    {
     "output_type": "stream",
     "name": "stdout",
     "text": [
      "[[1.         0.         0.         ... 0.         0.         0.34523047]\n",
      " [1.         0.         0.         ... 0.         0.         0.51290971]\n",
      " [1.         0.         0.         ... 0.         0.         0.6084449 ]\n",
      " ...\n",
      " [0.         0.         0.         ... 0.         1.         0.21637022]\n",
      " [0.         0.         0.         ... 0.         1.         0.31337136]\n",
      " [0.         0.         0.         ... 0.         1.         0.28561826]]\n"
     ]
    },
    {
     "output_type": "error",
     "ename": "KeyboardInterrupt",
     "evalue": "",
     "traceback": [
      "\u001b[0;31m---------------------------------------------------------------------------\u001b[0m",
      "\u001b[0;31mKeyboardInterrupt\u001b[0m                         Traceback (most recent call last)",
      "\u001b[0;32m/var/folders/b9/72wcckds2cb8251nj_1l8y840000gn/T/ipykernel_27823/3724776063.py\u001b[0m in \u001b[0;36m<module>\u001b[0;34m\u001b[0m\n\u001b[1;32m      6\u001b[0m     \u001b[0menv\u001b[0m \u001b[0;34m=\u001b[0m \u001b[0;34m[\u001b[0m\u001b[0;36m1\u001b[0m \u001b[0;32mif\u001b[0m \u001b[0mx\u001b[0m \u001b[0;34m==\u001b[0m \u001b[0;34m'con'\u001b[0m \u001b[0;32melse\u001b[0m \u001b[0;36m0\u001b[0m \u001b[0;32mfor\u001b[0m \u001b[0mx\u001b[0m \u001b[0;32min\u001b[0m \u001b[0mtemp_sub\u001b[0m\u001b[0;34m[\u001b[0m\u001b[0;34m'congruency'\u001b[0m\u001b[0;34m]\u001b[0m\u001b[0;34m]\u001b[0m\u001b[0;34m\u001b[0m\u001b[0;34m\u001b[0m\u001b[0m\n\u001b[1;32m      7\u001b[0m     \u001b[0mv_learner\u001b[0m\u001b[0;34m.\u001b[0m\u001b[0mreset\u001b[0m\u001b[0;34m(\u001b[0m\u001b[0;34m)\u001b[0m\u001b[0;34m\u001b[0m\u001b[0;34m\u001b[0m\u001b[0m\n\u001b[0;32m----> 8\u001b[0;31m     \u001b[0mv_learner\u001b[0m\u001b[0;34m.\u001b[0m\u001b[0mfit\u001b[0m\u001b[0;34m(\u001b[0m\u001b[0menv\u001b[0m\u001b[0;34m)\u001b[0m\u001b[0;34m\u001b[0m\u001b[0;34m\u001b[0m\u001b[0m\n\u001b[0m\u001b[1;32m      9\u001b[0m     \u001b[0my\u001b[0m \u001b[0;34m=\u001b[0m \u001b[0mtemp_sub\u001b[0m\u001b[0;34m[\u001b[0m\u001b[0;34m'RT'\u001b[0m\u001b[0;34m]\u001b[0m\u001b[0;34m\u001b[0m\u001b[0;34m\u001b[0m\u001b[0m\n\u001b[1;32m     10\u001b[0m     \u001b[0mtemp_sub\u001b[0m\u001b[0;34m[\u001b[0m\u001b[0;34m'miniblock'\u001b[0m\u001b[0;34m]\u001b[0m \u001b[0;34m=\u001b[0m \u001b[0mtemp_sub\u001b[0m\u001b[0;34m[\u001b[0m\u001b[0;34m\"block\"\u001b[0m\u001b[0;34m]\u001b[0m\u001b[0;34m.\u001b[0m\u001b[0mastype\u001b[0m\u001b[0;34m(\u001b[0m\u001b[0mstr\u001b[0m\u001b[0;34m)\u001b[0m \u001b[0;34m+\u001b[0m \u001b[0mtemp_sub\u001b[0m\u001b[0;34m[\u001b[0m\u001b[0;34m\"run\"\u001b[0m\u001b[0;34m]\u001b[0m\u001b[0;34m.\u001b[0m\u001b[0mastype\u001b[0m\u001b[0;34m(\u001b[0m\u001b[0mstr\u001b[0m\u001b[0;34m)\u001b[0m\u001b[0;34m\u001b[0m\u001b[0;34m\u001b[0m\u001b[0m\n",
      "\u001b[0;32m~/project2git/cognitive_control_model/scripts/bayesian_learner_model/optlearner.py\u001b[0m in \u001b[0;36mfit\u001b[0;34m(self, data)\u001b[0m\n\u001b[1;32m    254\u001b[0m         \u001b[0;34m\"\"\"Fit the model to a sequence of Bernoulli observations.\"\"\"\u001b[0m\u001b[0;34m\u001b[0m\u001b[0;34m\u001b[0m\u001b[0m\n\u001b[1;32m    255\u001b[0m         \u001b[0;32mfor\u001b[0m \u001b[0my\u001b[0m \u001b[0;32min\u001b[0m \u001b[0mdata\u001b[0m\u001b[0;34m:\u001b[0m\u001b[0;34m\u001b[0m\u001b[0;34m\u001b[0m\u001b[0m\n\u001b[0;32m--> 256\u001b[0;31m             \u001b[0mself\u001b[0m\u001b[0;34m.\u001b[0m\u001b[0m_update\u001b[0m\u001b[0;34m(\u001b[0m\u001b[0my\u001b[0m\u001b[0;34m)\u001b[0m\u001b[0;34m\u001b[0m\u001b[0;34m\u001b[0m\u001b[0m\n\u001b[0m\u001b[1;32m    257\u001b[0m             \u001b[0mpI\u001b[0m \u001b[0;34m=\u001b[0m \u001b[0mself\u001b[0m\u001b[0;34m.\u001b[0m\u001b[0mpIk\u001b[0m\u001b[0;34m.\u001b[0m\u001b[0msum\u001b[0m\u001b[0;34m(\u001b[0m\u001b[0maxis\u001b[0m\u001b[0;34m=\u001b[0m\u001b[0;36m2\u001b[0m\u001b[0;34m)\u001b[0m\u001b[0;34m\u001b[0m\u001b[0;34m\u001b[0m\u001b[0m\n\u001b[1;32m    258\u001b[0m             \u001b[0mself\u001b[0m\u001b[0;34m.\u001b[0m\u001b[0mp_dists\u001b[0m\u001b[0;34m.\u001b[0m\u001b[0mappend\u001b[0m\u001b[0;34m(\u001b[0m\u001b[0mpI\u001b[0m\u001b[0;34m.\u001b[0m\u001b[0msum\u001b[0m\u001b[0;34m(\u001b[0m\u001b[0maxis\u001b[0m\u001b[0;34m=\u001b[0m\u001b[0;36m1\u001b[0m\u001b[0;34m)\u001b[0m\u001b[0;34m)\u001b[0m\u001b[0;34m\u001b[0m\u001b[0;34m\u001b[0m\u001b[0m\n",
      "\u001b[0;32m~/project2git/cognitive_control_model/scripts/bayesian_learner_model/optlearner.py\u001b[0m in \u001b[0;36m_update\u001b[0;34m(self, y)\u001b[0m\n\u001b[1;32m    227\u001b[0m         \u001b[0;31m# Multiply P(p_p+1 | p_i, I_i+1) by P(p_i, I_i+1, k) and\u001b[0m\u001b[0;34m\u001b[0m\u001b[0;34m\u001b[0m\u001b[0;34m\u001b[0m\u001b[0m\n\u001b[1;32m    228\u001b[0m         \u001b[0;31m# integrate out p_i, which gives P(p_i+1, I_i+1, k)\u001b[0m\u001b[0;34m\u001b[0m\u001b[0;34m\u001b[0m\u001b[0;34m\u001b[0m\u001b[0m\n\u001b[0;32m--> 229\u001b[0;31m         \u001b[0mp_leaked\u001b[0m \u001b[0;34m=\u001b[0m \u001b[0mnp\u001b[0m\u001b[0;34m.\u001b[0m\u001b[0meinsum\u001b[0m\u001b[0;34m(\u001b[0m\u001b[0;34m\"ijk,jkl->ikl\"\u001b[0m\u001b[0;34m,\u001b[0m \u001b[0mself\u001b[0m\u001b[0;34m.\u001b[0m\u001b[0m_p_trans\u001b[0m\u001b[0;34m,\u001b[0m \u001b[0mI_leaked\u001b[0m\u001b[0;34m)\u001b[0m\u001b[0;34m\u001b[0m\u001b[0;34m\u001b[0m\u001b[0m\n\u001b[0m\u001b[1;32m    230\u001b[0m \u001b[0;34m\u001b[0m\u001b[0m\n\u001b[1;32m    231\u001b[0m         \u001b[0;31m# Set the running joint distribution to the new values\u001b[0m\u001b[0;34m\u001b[0m\u001b[0;34m\u001b[0m\u001b[0;34m\u001b[0m\u001b[0m\n",
      "\u001b[0;32m<__array_function__ internals>\u001b[0m in \u001b[0;36meinsum\u001b[0;34m(*args, **kwargs)\u001b[0m\n",
      "\u001b[0;32m~/miniforge3/lib/python3.9/site-packages/numpy/core/einsumfunc.py\u001b[0m in \u001b[0;36meinsum\u001b[0;34m(out, optimize, *operands, **kwargs)\u001b[0m\n\u001b[1;32m   1357\u001b[0m         \u001b[0;32mif\u001b[0m \u001b[0mspecified_out\u001b[0m\u001b[0;34m:\u001b[0m\u001b[0;34m\u001b[0m\u001b[0;34m\u001b[0m\u001b[0m\n\u001b[1;32m   1358\u001b[0m             \u001b[0mkwargs\u001b[0m\u001b[0;34m[\u001b[0m\u001b[0;34m'out'\u001b[0m\u001b[0;34m]\u001b[0m \u001b[0;34m=\u001b[0m \u001b[0mout\u001b[0m\u001b[0;34m\u001b[0m\u001b[0;34m\u001b[0m\u001b[0m\n\u001b[0;32m-> 1359\u001b[0;31m         \u001b[0;32mreturn\u001b[0m \u001b[0mc_einsum\u001b[0m\u001b[0;34m(\u001b[0m\u001b[0;34m*\u001b[0m\u001b[0moperands\u001b[0m\u001b[0;34m,\u001b[0m \u001b[0;34m**\u001b[0m\u001b[0mkwargs\u001b[0m\u001b[0;34m)\u001b[0m\u001b[0;34m\u001b[0m\u001b[0;34m\u001b[0m\u001b[0m\n\u001b[0m\u001b[1;32m   1360\u001b[0m \u001b[0;34m\u001b[0m\u001b[0m\n\u001b[1;32m   1361\u001b[0m     \u001b[0;31m# Check the kwargs to avoid a more cryptic error later, without having to\u001b[0m\u001b[0;34m\u001b[0m\u001b[0;34m\u001b[0m\u001b[0;34m\u001b[0m\u001b[0m\n",
      "\u001b[0;31mKeyboardInterrupt\u001b[0m: "
     ]
    }
   ],
   "metadata": {}
  },
  {
   "cell_type": "code",
   "execution_count": 17,
   "source": [
    "AIC_ab_list"
   ],
   "outputs": [
    {
     "output_type": "execute_result",
     "data": {
      "text/plain": [
       "[11489.701567044487,\n",
       " 11452.25365615366,\n",
       " 11532.682033344341,\n",
       " 11771.099236518208,\n",
       " 12613.38020682956,\n",
       " 11726.722923565814,\n",
       " 12335.12124419807,\n",
       " 11737.763952779622,\n",
       " 12436.835253758725,\n",
       " 12670.7098200604,\n",
       " 12902.64231597094,\n",
       " 12792.658547724808,\n",
       " 11645.318224035624,\n",
       " 11960.750731006983,\n",
       " 12106.937988018475,\n",
       " 12125.829438619341,\n",
       " 10523.859270325205,\n",
       " 12216.492361509621,\n",
       " 11953.488803682298,\n",
       " 12686.199658106489,\n",
       " 12255.583228341187,\n",
       " 12423.36992458637,\n",
       " 12341.395506942195,\n",
       " 10982.461274562884,\n",
       " 10805.235351862822,\n",
       " 10801.779507851852,\n",
       " 11840.167271501989,\n",
       " 12656.11651805533,\n",
       " 12036.038035637692,\n",
       " 11927.09777274356,\n",
       " 10703.261637618392,\n",
       " 11098.272024634727,\n",
       " 12191.731244976396,\n",
       " 10792.161126517454]"
      ]
     },
     "metadata": {},
     "execution_count": 17
    }
   ],
   "metadata": {}
  },
  {
   "cell_type": "code",
   "execution_count": 7,
   "source": [
    "# 计算抽象概念的 AIC 值\n",
    "AIC_ab_list_without_volatile = []\n",
    "sub_list = np.unique(all_sub_data['Subject_num'].values)\n",
    "for i in sub_list:\n",
    "    temp_sub = all_sub_data[all_sub_data['Subject_num'] == i]\n",
    "    env = [1 if x == 'con' else 0 for x in temp_sub['congruency']]\n",
    "    s_learner.reset()\n",
    "    s_learner.fit(env)\n",
    "    y = temp_sub['RT']\n",
    "    temp_sub['miniblock'] = temp_sub[\"block\"].astype(str) + temp_sub[\"run\"].astype(str)\n",
    "    mini_block = pd.get_dummies(temp_sub[['miniblock']], columns= ['miniblock'])\n",
    "    mini_block['p_hats'] = s_learner.p_hats\n",
    "\n",
    "    model = sm.OLS(y, mini_block.values).fit()\n",
    "    AIC_ab_list_without_volatile.append(model.aic)"
   ],
   "outputs": [
    {
     "output_type": "stream",
     "name": "stderr",
     "text": [
      "/Users/dddd1007/miniforge3/lib/python3.9/site-packages/pandas/core/frame.py:3607: SettingWithCopyWarning: \n",
      "A value is trying to be set on a copy of a slice from a DataFrame.\n",
      "Try using .loc[row_indexer,col_indexer] = value instead\n",
      "\n",
      "See the caveats in the documentation: https://pandas.pydata.org/pandas-docs/stable/user_guide/indexing.html#returning-a-view-versus-a-copy\n",
      "  self._set_item(key, value)\n"
     ]
    }
   ],
   "metadata": {}
  },
  {
   "cell_type": "code",
   "execution_count": 8,
   "source": [
    "AIC_ab_list_without_volatile"
   ],
   "outputs": [
    {
     "output_type": "execute_result",
     "data": {
      "text/plain": [
       "[11491.271655256085,\n",
       " 11447.921648122363,\n",
       " 11532.390693546786,\n",
       " 11772.228055638701,\n",
       " 12613.334322797891,\n",
       " 11725.647140751566,\n",
       " 12332.715175526104,\n",
       " 11737.9262575576,\n",
       " 12436.715422501291,\n",
       " 12670.684699595438,\n",
       " 12902.898584704808,\n",
       " 12796.518844946379,\n",
       " 11645.795837713515,\n",
       " 11960.738993471914,\n",
       " 12107.857701324512,\n",
       " 12125.861463300294,\n",
       " 10526.843151225918,\n",
       " 12216.43738461766,\n",
       " 11952.929384023302,\n",
       " 12686.157812687528,\n",
       " 12256.076373527334,\n",
       " 12423.442692824254,\n",
       " 12343.856915178787,\n",
       " 10982.757658356853,\n",
       " 10805.919397913505,\n",
       " 10801.763378313219,\n",
       " 11840.186601697193,\n",
       " 12656.066493466593,\n",
       " 12035.966519406627,\n",
       " 11927.00715510255,\n",
       " 10703.447532571512,\n",
       " 11100.819489926946,\n",
       " 12191.874173479047,\n",
       " 10791.991378028852]"
      ]
     },
     "metadata": {},
     "execution_count": 8
    }
   ],
   "metadata": {}
  },
  {
   "cell_type": "code",
   "execution_count": 35,
   "source": [
    "# 计算S-R Bayesian Model 的 AIC 值\n",
    "AIC_sr_list = []\n",
    "sub_list = np.unique(all_sub_data['Subject_num'].values)\n",
    "for i in sub_list:\n",
    "    temp_sub = all_sub_data[all_sub_data['Subject_num'] == i]\n",
    "\n",
    "    # left \n",
    "    temp_sub_left = temp_sub[temp_sub['stim_loc'] == 'left']\n",
    "    env = temp_sub_left['Response']\n",
    "    v_learner.reset()\n",
    "    v_learner.fit(env)    \n",
    "    temp_sub_left['miniblock'] = temp_sub_left[\"block\"].astype(str) + temp_sub_left[\"run\"].astype(str)\n",
    "    mini_block_left = pd.get_dummies(temp_sub_left[['miniblock', 'Trial']], columns= ['miniblock'])\n",
    "    mini_block_left['p_hats'] = v_learner.p_hats\n",
    "\n",
    "    # right\n",
    "    temp_sub_right = temp_sub[temp_sub['stim_loc'] == 'right']\n",
    "    env = temp_sub_right['Response']\n",
    "    v_learner.reset()\n",
    "    v_learner.fit(env)\n",
    "    temp_sub_right['miniblock'] = temp_sub_right[\"block\"].astype(str) + temp_sub_right[\"run\"].astype(str)\n",
    "    mini_block_right = pd.get_dummies(temp_sub_right[['miniblock', 'Trial']], columns= ['miniblock'])\n",
    "    mini_block_right['p_hats'] = v_learner.p_hats\n",
    "\n",
    "    # calculate AIC\n",
    "    df = pd.concat([temp_sub_left, temp_sub_right]).sort_values(by=['Trial'])\n",
    "    y = df['RT'].values\n",
    "    x = pd.concat([mini_block_left, mini_block_right]).sort_values(by=['Trial']).drop('Trial', axis= 1).values\n",
    "    \n",
    "    print(x)\n",
    "    model = sm.OLS(y, x).fit()\n",
    "    AIC_sr_list.append(model.aic)"
   ],
   "outputs": [
    {
     "output_type": "stream",
     "name": "stderr",
     "text": [
      "/Users/dddd1007/miniforge3/lib/python3.9/site-packages/pandas/core/frame.py:3607: SettingWithCopyWarning: \n",
      "A value is trying to be set on a copy of a slice from a DataFrame.\n",
      "Try using .loc[row_indexer,col_indexer] = value instead\n",
      "\n",
      "See the caveats in the documentation: https://pandas.pydata.org/pandas-docs/stable/user_guide/indexing.html#returning-a-view-versus-a-copy\n",
      "  self._set_item(key, value)\n"
     ]
    },
    {
     "output_type": "stream",
     "name": "stdout",
     "text": [
      "[[1.         0.         0.         ... 0.         0.         0.34523047]\n",
      " [1.         0.         0.         ... 0.         0.         0.34523047]\n",
      " [1.         0.         0.         ... 0.         0.         0.27581234]\n",
      " ...\n",
      " [0.         0.         0.         ... 0.         1.         0.3544496 ]\n",
      " [0.         0.         0.         ... 0.         1.         0.65352008]\n",
      " [0.         0.         0.         ... 0.         1.         0.69706797]]\n",
      "[[1.         0.         0.         ... 0.         0.         0.65476953]\n",
      " [1.         0.         0.         ... 0.         0.         0.65476953]\n",
      " [1.         0.         0.         ... 0.         0.         0.48709029]\n",
      " ...\n",
      " [0.         0.         0.         ... 0.         1.         0.2717479 ]\n",
      " [0.         0.         0.         ... 0.         1.         0.40078062]\n",
      " [0.         0.         0.         ... 0.         1.         0.67975243]]\n"
     ]
    },
    {
     "output_type": "error",
     "ename": "KeyboardInterrupt",
     "evalue": "",
     "traceback": [
      "\u001b[0;31m---------------------------------------------------------------------------\u001b[0m",
      "\u001b[0;31mKeyboardInterrupt\u001b[0m                         Traceback (most recent call last)",
      "\u001b[0;32m/var/folders/b9/72wcckds2cb8251nj_1l8y840000gn/T/ipykernel_27823/453496636.py\u001b[0m in \u001b[0;36m<module>\u001b[0;34m\u001b[0m\n\u001b[1;32m      9\u001b[0m     \u001b[0menv\u001b[0m \u001b[0;34m=\u001b[0m \u001b[0mtemp_sub_left\u001b[0m\u001b[0;34m[\u001b[0m\u001b[0;34m'Response'\u001b[0m\u001b[0;34m]\u001b[0m\u001b[0;34m\u001b[0m\u001b[0;34m\u001b[0m\u001b[0m\n\u001b[1;32m     10\u001b[0m     \u001b[0mv_learner\u001b[0m\u001b[0;34m.\u001b[0m\u001b[0mreset\u001b[0m\u001b[0;34m(\u001b[0m\u001b[0;34m)\u001b[0m\u001b[0;34m\u001b[0m\u001b[0;34m\u001b[0m\u001b[0m\n\u001b[0;32m---> 11\u001b[0;31m     \u001b[0mv_learner\u001b[0m\u001b[0;34m.\u001b[0m\u001b[0mfit\u001b[0m\u001b[0;34m(\u001b[0m\u001b[0menv\u001b[0m\u001b[0;34m)\u001b[0m\u001b[0;34m\u001b[0m\u001b[0;34m\u001b[0m\u001b[0m\n\u001b[0m\u001b[1;32m     12\u001b[0m     \u001b[0mtemp_sub_left\u001b[0m\u001b[0;34m[\u001b[0m\u001b[0;34m'miniblock'\u001b[0m\u001b[0;34m]\u001b[0m \u001b[0;34m=\u001b[0m \u001b[0mtemp_sub_left\u001b[0m\u001b[0;34m[\u001b[0m\u001b[0;34m\"block\"\u001b[0m\u001b[0;34m]\u001b[0m\u001b[0;34m.\u001b[0m\u001b[0mastype\u001b[0m\u001b[0;34m(\u001b[0m\u001b[0mstr\u001b[0m\u001b[0;34m)\u001b[0m \u001b[0;34m+\u001b[0m \u001b[0mtemp_sub_left\u001b[0m\u001b[0;34m[\u001b[0m\u001b[0;34m\"run\"\u001b[0m\u001b[0;34m]\u001b[0m\u001b[0;34m.\u001b[0m\u001b[0mastype\u001b[0m\u001b[0;34m(\u001b[0m\u001b[0mstr\u001b[0m\u001b[0;34m)\u001b[0m\u001b[0;34m\u001b[0m\u001b[0;34m\u001b[0m\u001b[0m\n\u001b[1;32m     13\u001b[0m     \u001b[0mmini_block_left\u001b[0m \u001b[0;34m=\u001b[0m \u001b[0mpd\u001b[0m\u001b[0;34m.\u001b[0m\u001b[0mget_dummies\u001b[0m\u001b[0;34m(\u001b[0m\u001b[0mtemp_sub_left\u001b[0m\u001b[0;34m[\u001b[0m\u001b[0;34m[\u001b[0m\u001b[0;34m'miniblock'\u001b[0m\u001b[0;34m,\u001b[0m \u001b[0;34m'Trial'\u001b[0m\u001b[0;34m]\u001b[0m\u001b[0;34m]\u001b[0m\u001b[0;34m,\u001b[0m \u001b[0mcolumns\u001b[0m\u001b[0;34m=\u001b[0m \u001b[0;34m[\u001b[0m\u001b[0;34m'miniblock'\u001b[0m\u001b[0;34m]\u001b[0m\u001b[0;34m)\u001b[0m\u001b[0;34m\u001b[0m\u001b[0;34m\u001b[0m\u001b[0m\n",
      "\u001b[0;32m~/project2git/cognitive_control_model/scripts/bayesian_learner_model/optlearner.py\u001b[0m in \u001b[0;36mfit\u001b[0;34m(self, data)\u001b[0m\n\u001b[1;32m    254\u001b[0m         \u001b[0;34m\"\"\"Fit the model to a sequence of Bernoulli observations.\"\"\"\u001b[0m\u001b[0;34m\u001b[0m\u001b[0;34m\u001b[0m\u001b[0m\n\u001b[1;32m    255\u001b[0m         \u001b[0;32mfor\u001b[0m \u001b[0my\u001b[0m \u001b[0;32min\u001b[0m \u001b[0mdata\u001b[0m\u001b[0;34m:\u001b[0m\u001b[0;34m\u001b[0m\u001b[0;34m\u001b[0m\u001b[0m\n\u001b[0;32m--> 256\u001b[0;31m             \u001b[0mself\u001b[0m\u001b[0;34m.\u001b[0m\u001b[0m_update\u001b[0m\u001b[0;34m(\u001b[0m\u001b[0my\u001b[0m\u001b[0;34m)\u001b[0m\u001b[0;34m\u001b[0m\u001b[0;34m\u001b[0m\u001b[0m\n\u001b[0m\u001b[1;32m    257\u001b[0m             \u001b[0mpI\u001b[0m \u001b[0;34m=\u001b[0m \u001b[0mself\u001b[0m\u001b[0;34m.\u001b[0m\u001b[0mpIk\u001b[0m\u001b[0;34m.\u001b[0m\u001b[0msum\u001b[0m\u001b[0;34m(\u001b[0m\u001b[0maxis\u001b[0m\u001b[0;34m=\u001b[0m\u001b[0;36m2\u001b[0m\u001b[0;34m)\u001b[0m\u001b[0;34m\u001b[0m\u001b[0;34m\u001b[0m\u001b[0m\n\u001b[1;32m    258\u001b[0m             \u001b[0mself\u001b[0m\u001b[0;34m.\u001b[0m\u001b[0mp_dists\u001b[0m\u001b[0;34m.\u001b[0m\u001b[0mappend\u001b[0m\u001b[0;34m(\u001b[0m\u001b[0mpI\u001b[0m\u001b[0;34m.\u001b[0m\u001b[0msum\u001b[0m\u001b[0;34m(\u001b[0m\u001b[0maxis\u001b[0m\u001b[0;34m=\u001b[0m\u001b[0;36m1\u001b[0m\u001b[0;34m)\u001b[0m\u001b[0;34m)\u001b[0m\u001b[0;34m\u001b[0m\u001b[0;34m\u001b[0m\u001b[0m\n",
      "\u001b[0;32m~/project2git/cognitive_control_model/scripts/bayesian_learner_model/optlearner.py\u001b[0m in \u001b[0;36m_update\u001b[0;34m(self, y)\u001b[0m\n\u001b[1;32m    227\u001b[0m         \u001b[0;31m# Multiply P(p_p+1 | p_i, I_i+1) by P(p_i, I_i+1, k) and\u001b[0m\u001b[0;34m\u001b[0m\u001b[0;34m\u001b[0m\u001b[0;34m\u001b[0m\u001b[0m\n\u001b[1;32m    228\u001b[0m         \u001b[0;31m# integrate out p_i, which gives P(p_i+1, I_i+1, k)\u001b[0m\u001b[0;34m\u001b[0m\u001b[0;34m\u001b[0m\u001b[0;34m\u001b[0m\u001b[0m\n\u001b[0;32m--> 229\u001b[0;31m         \u001b[0mp_leaked\u001b[0m \u001b[0;34m=\u001b[0m \u001b[0mnp\u001b[0m\u001b[0;34m.\u001b[0m\u001b[0meinsum\u001b[0m\u001b[0;34m(\u001b[0m\u001b[0;34m\"ijk,jkl->ikl\"\u001b[0m\u001b[0;34m,\u001b[0m \u001b[0mself\u001b[0m\u001b[0;34m.\u001b[0m\u001b[0m_p_trans\u001b[0m\u001b[0;34m,\u001b[0m \u001b[0mI_leaked\u001b[0m\u001b[0;34m)\u001b[0m\u001b[0;34m\u001b[0m\u001b[0;34m\u001b[0m\u001b[0m\n\u001b[0m\u001b[1;32m    230\u001b[0m \u001b[0;34m\u001b[0m\u001b[0m\n\u001b[1;32m    231\u001b[0m         \u001b[0;31m# Set the running joint distribution to the new values\u001b[0m\u001b[0;34m\u001b[0m\u001b[0;34m\u001b[0m\u001b[0;34m\u001b[0m\u001b[0m\n",
      "\u001b[0;32m<__array_function__ internals>\u001b[0m in \u001b[0;36meinsum\u001b[0;34m(*args, **kwargs)\u001b[0m\n",
      "\u001b[0;32m~/miniforge3/lib/python3.9/site-packages/numpy/core/einsumfunc.py\u001b[0m in \u001b[0;36meinsum\u001b[0;34m(out, optimize, *operands, **kwargs)\u001b[0m\n\u001b[1;32m   1357\u001b[0m         \u001b[0;32mif\u001b[0m \u001b[0mspecified_out\u001b[0m\u001b[0;34m:\u001b[0m\u001b[0;34m\u001b[0m\u001b[0;34m\u001b[0m\u001b[0m\n\u001b[1;32m   1358\u001b[0m             \u001b[0mkwargs\u001b[0m\u001b[0;34m[\u001b[0m\u001b[0;34m'out'\u001b[0m\u001b[0;34m]\u001b[0m \u001b[0;34m=\u001b[0m \u001b[0mout\u001b[0m\u001b[0;34m\u001b[0m\u001b[0;34m\u001b[0m\u001b[0m\n\u001b[0;32m-> 1359\u001b[0;31m         \u001b[0;32mreturn\u001b[0m \u001b[0mc_einsum\u001b[0m\u001b[0;34m(\u001b[0m\u001b[0;34m*\u001b[0m\u001b[0moperands\u001b[0m\u001b[0;34m,\u001b[0m \u001b[0;34m**\u001b[0m\u001b[0mkwargs\u001b[0m\u001b[0;34m)\u001b[0m\u001b[0;34m\u001b[0m\u001b[0;34m\u001b[0m\u001b[0m\n\u001b[0m\u001b[1;32m   1360\u001b[0m \u001b[0;34m\u001b[0m\u001b[0m\n\u001b[1;32m   1361\u001b[0m     \u001b[0;31m# Check the kwargs to avoid a more cryptic error later, without having to\u001b[0m\u001b[0;34m\u001b[0m\u001b[0;34m\u001b[0m\u001b[0;34m\u001b[0m\u001b[0m\n",
      "\u001b[0;31mKeyboardInterrupt\u001b[0m: "
     ]
    }
   ],
   "metadata": {}
  },
  {
   "cell_type": "code",
   "execution_count": 32,
   "source": [
    "AIC_sr_list"
   ],
   "outputs": [
    {
     "output_type": "execute_result",
     "data": {
      "text/plain": [
       "[11514.140488595363,\n",
       " 11460.411089099991,\n",
       " 11524.440887458744,\n",
       " 11778.027010444393,\n",
       " 12599.542518739352,\n",
       " 11715.110655721262,\n",
       " 12326.457858991354,\n",
       " 11740.155649014228,\n",
       " 12439.987629572286,\n",
       " 12663.334792604284,\n",
       " 12903.894304673617,\n",
       " 12819.975721745202,\n",
       " 11636.219504661105,\n",
       " 11953.661013136709,\n",
       " 12107.35295325483,\n",
       " 12125.198994942915,\n",
       " 10504.94139707419,\n",
       " 12215.13323971186,\n",
       " 11942.661291940836,\n",
       " 12670.929441250557,\n",
       " 12246.208401758084,\n",
       " 12414.498066092263,\n",
       " 12327.549140061328,\n",
       " 10982.75745936323,\n",
       " 10809.084702469507,\n",
       " 10784.056481286483,\n",
       " 11835.806357600044,\n",
       " 12655.213730852109,\n",
       " 12033.11973453599,\n",
       " 11925.55324555991,\n",
       " 10697.610748546595,\n",
       " 11115.669695907516,\n",
       " 12191.945317432537,\n",
       " 10794.428980552473]"
      ]
     },
     "metadata": {},
     "execution_count": 32
    }
   ],
   "metadata": {}
  },
  {
   "cell_type": "code",
   "execution_count": 10,
   "source": [
    "AIC_sr_list_without_k = []\n",
    "sub_list = np.unique(all_sub_data['Subject_num'].values)\n",
    "for i in sub_list:\n",
    "    temp_sub = all_sub_data[all_sub_data['Subject_num'] == i]\n",
    "\n",
    "    # left \n",
    "    temp_sub_left = temp_sub[temp_sub['stim_loc'] == 'left']\n",
    "    env = temp_sub_left['Response']\n",
    "    s_learner.reset()\n",
    "    s_learner.fit(env)    \n",
    "    temp_sub_left['miniblock'] = temp_sub_left[\"block\"].astype(str) + temp_sub_left[\"run\"].astype(str)\n",
    "    mini_block_left = pd.get_dummies(temp_sub_left[['miniblock', 'Trial']], columns= ['miniblock'])\n",
    "    mini_block_left['p_hats'] = s_learner.p_hats\n",
    "\n",
    "    # right\n",
    "    temp_sub_right = temp_sub[temp_sub['stim_loc'] == 'right']\n",
    "    env = temp_sub_right['Response']\n",
    "    s_learner.reset()\n",
    "    s_learner.fit(env)\n",
    "    temp_sub_right['miniblock'] = temp_sub_right[\"block\"].astype(str) + temp_sub_right[\"run\"].astype(str)\n",
    "    mini_block_right = pd.get_dummies(temp_sub_right[['miniblock', 'Trial']], columns= ['miniblock'])\n",
    "    mini_block_right['p_hats'] = s_learner.p_hats\n",
    "\n",
    "    # calculate AIC\n",
    "    df = pd.concat([temp_sub_left, temp_sub_right]).sort_values(by=['Trial'])\n",
    "    y = df['RT'].values\n",
    "    x = pd.concat([mini_block_left, mini_block_right]).sort_values(by=['Trial']).drop('Trial', axis= 1).values\n",
    "    \n",
    "    model = sm.OLS(y, x).fit()\n",
    "    AIC_sr_list_without_k.append(model.aic)"
   ],
   "outputs": [],
   "metadata": {}
  },
  {
   "cell_type": "code",
   "execution_count": 11,
   "source": [
    "AIC_sr_list_without_k"
   ],
   "outputs": [
    {
     "output_type": "execute_result",
     "data": {
      "text/plain": [
       "[11514.09401749766,\n",
       " 11459.513882311101,\n",
       " 11525.104181433653,\n",
       " 11778.018534152365,\n",
       " 12599.351499634042,\n",
       " 11717.336740580875,\n",
       " 12327.049871424777,\n",
       " 11740.201712011072,\n",
       " 12439.930341114332,\n",
       " 12662.470889211558,\n",
       " 12904.544164836225,\n",
       " 12820.218836131362,\n",
       " 11635.807150030272,\n",
       " 11954.906636081381,\n",
       " 12106.812073151865,\n",
       " 12125.173024714091,\n",
       " 10504.688175261175,\n",
       " 12215.42144156,\n",
       " 11942.693174910853,\n",
       " 12670.808579032666,\n",
       " 12246.767294442041,\n",
       " 12414.173829393148,\n",
       " 12330.896122090406,\n",
       " 10982.303452923743,\n",
       " 10809.083037402372,\n",
       " 10786.324536635568,\n",
       " 11835.676757503448,\n",
       " 12655.30769880353,\n",
       " 12033.471355210306,\n",
       " 11925.951641042586,\n",
       " 10697.797073390055,\n",
       " 11114.49208403343,\n",
       " 12191.949336554235,\n",
       " 10794.4402787323]"
      ]
     },
     "metadata": {},
     "execution_count": 11
    }
   ],
   "metadata": {}
  },
  {
   "cell_type": "markdown",
   "source": [
    "## 计算 Stan 模型"
   ],
   "metadata": {}
  },
  {
   "cell_type": "code",
   "execution_count": 6,
   "source": [
    "ab_learner_stanfile = \"/Users/dddd1007/project2git/cognitive_control_model/Bayesian_Models/bayesian_learner_ab.stan\"\n",
    "bayesian_ab_learner = cmdstanpy.CmdStanModel(model_name='bayesian_ab_learner', stan_file=ab_learner_stanfile)"
   ],
   "outputs": [
    {
     "output_type": "stream",
     "name": "stderr",
     "text": [
      "INFO:cmdstanpy:compiling stan program, exe file: /Users/dddd1007/project2git/cognitive_control_model/Bayesian_Models/bayesian_learner_ab\n",
      "INFO:cmdstanpy:compiler options: stanc_options=None, cpp_options=None\n",
      "INFO:cmdstanpy:compiled model file: /Users/dddd1007/project2git/cognitive_control_model/Bayesian_Models/bayesian_learner_ab\n"
     ]
    }
   ],
   "metadata": {}
  },
  {
   "cell_type": "code",
   "execution_count": null,
   "source": [
    "AIC_ab_list_stan = []\n",
    "sub_list = np.unique(all_sub_data['Subject_num'].values)\n",
    "for i in sub_list:\n",
    "    print('--- Sub ' + str(i) + '---')\n",
    "    temp_sub = all_sub_data[all_sub_data['Subject_num'] == i]\n",
    "    env = [1 if x == 'con' else 0 for x in temp_sub['congruency']]\n",
    "    data = {'N':len(env), 'y':env}\n",
    "    ab_learner_fit = bayesian_ab_learner.sample(chains=4, data = data)\n",
    "    result = ab_learner_fit.summary()\n",
    "    p_hats = result.Mean.values[result.Mean.index.str.contains('r')]\n",
    "    temp_sub['miniblock'] = temp_sub[\"block\"].astype(str) + temp_sub[\"run\"].astype(str)\n",
    "    mini_block = pd.get_dummies(temp_sub[['miniblock']], columns= ['miniblock'])\n",
    "    mini_block['p_hats'] = p_hats\n",
    "    rts = temp_sub['RT'].values\n",
    "\n",
    "    model = sm.OLS(rts, mini_block.values).fit()\n",
    "    AIC_ab_list_stan.append(model.aic)"
   ],
   "outputs": [],
   "metadata": {}
  },
  {
   "cell_type": "code",
   "execution_count": 37,
   "source": [
    "AIC_ab_list_stan"
   ],
   "outputs": [
    {
     "output_type": "execute_result",
     "data": {
      "text/plain": [
       "[11498.160639852422,\n",
       " 11468.070301899448,\n",
       " 11534.545431761677,\n",
       " 11770.592653455447,\n",
       " 12615.237533096524,\n",
       " 11728.072605044075,\n",
       " 12339.84208342117,\n",
       " 11739.526738962264,\n",
       " 12440.1207934304,\n",
       " 12670.525756605053,\n",
       " 12904.063096265276,\n",
       " 12811.038041170914,\n",
       " 11646.75404984532,\n",
       " 11957.329444890323,\n",
       " 12106.094855146117,\n",
       " 12125.862620932307,\n",
       " 10531.051989267684,\n",
       " 12216.037226075036,\n",
       " 11954.397742098477,\n",
       " 12685.606523833068,\n",
       " 12256.753535531236,\n",
       " 12417.37070376609,\n",
       " 12345.65829740235,\n",
       " 10989.711180971613,\n",
       " 10809.117257745984,\n",
       " 10801.41540460582,\n",
       " 11839.22328751961,\n",
       " 12654.637441839177,\n",
       " 12035.988835341734,\n",
       " 11927.11851191838,\n",
       " 10702.036321467243,\n",
       " 11109.225693927272,\n",
       " 12188.5916050771,\n",
       " 10790.360793308444]"
      ]
     },
     "metadata": {},
     "execution_count": 37
    }
   ],
   "metadata": {}
  },
  {
   "cell_type": "code",
   "execution_count": 3,
   "source": [
    "sr_learner_stanfile = \"/Users/dddd1007/project2git/cognitive_control_model/Bayesian_Models/bayesian_learner_sr.stan\"\n",
    "bayesian_sr_learner = cmdstanpy.CmdStanModel(model_name='bayesian_sr_learner', stan_file=sr_learner_stanfile)"
   ],
   "outputs": [
    {
     "output_type": "stream",
     "name": "stderr",
     "text": [
      "INFO:cmdstanpy:compiling stan program, exe file: /Users/dddd1007/project2git/cognitive_control_model/Bayesian_Models/bayesian_learner_sr\n",
      "INFO:cmdstanpy:compiler options: stanc_options=None, cpp_options=None\n",
      "INFO:cmdstanpy:compiled model file: /Users/dddd1007/project2git/cognitive_control_model/Bayesian_Models/bayesian_learner_sr\n"
     ]
    }
   ],
   "metadata": {}
  },
  {
   "cell_type": "code",
   "execution_count": 4,
   "source": [
    "sub_list = np.unique(all_sub_data['Subject_num'].values)\n",
    "for i in sub_list:\n",
    "    print('--- Sub ' + str(i) + '---')\n",
    "    temp_sub = all_sub_data[all_sub_data['Subject_num'] == i]\n",
    "    react = temp_sub['Response'].values\n",
    "    space_loc = [1 if x == 'right' else 0 for x in temp_sub['stim_loc']]\n",
    "    data = {'N':len(react), 'react':react, 'space_loc':space_loc}\n",
    "    process_file_loc = '/Users/dddd1007/project2git/cognitive_control_model/data/output/bayesian_learner_samplers/sr/process/sub' + str(i) + '/.'\n",
    "    sr_learner_fit = bayesian_sr_learner.sample(chains=4, data = data,\n",
    "                                                output_dir=process_file_loc,\n",
    "                                                show_progress=True)\n",
    "    result = sr_learner_fit.summary()\n",
    "    file_name = 'sub_' + str(i) + '_sr_learner.csv'\n",
    "    result.to_csv('/Users/dddd1007/project2git/cognitive_control_model/data/output/bayesian_learner_samplers/sr_learner/' + file_name)"
   ],
   "outputs": [
    {
     "output_type": "stream",
     "name": "stdout",
     "text": [
      "--- Sub 1---\n"
     ]
    },
    {
     "output_type": "stream",
     "name": "stderr",
     "text": [
      "Chain 1 - warmup:   0%|          | 0/1 [00:00<?, ?it/s]\n",
      "\u001b[A\n",
      "\n",
      "\u001b[A\u001b[A\n",
      "\u001b[A\n",
      "\n",
      "Chain 1 - warmup:   0%|          | 0/2000 [00:00<?, ?it/s]\n",
      "\u001b[A\n",
      "\n",
      "\u001b[A\u001b[A"
     ]
    }
   ],
   "metadata": {}
  },
  {
   "cell_type": "code",
   "execution_count": 36,
   "source": [
    "AIC_sr_list_stan = []\n",
    "sub_list = np.unique(all_sub_data['Subject_num'].values)\n",
    "for i in sub_list:\n",
    "    print('--- Sub ' + str(i) + '---')\n",
    "    temp_sub = all_sub_data[all_sub_data['Subject_num'] == i]\n",
    "    estimated_data = pd.read_csv(\"/Users/dddd1007/project2git/cognitive_control_model/data/output/bayesian_learner_samplers/sr/extracted_data/sub_\" + str(i) + \"_sr_learner_.csv\")\n",
    "    p_hats = estimated_data['r_selected']\n",
    "    temp_sub['miniblock'] = temp_sub[\"block\"].astype(str) + temp_sub[\"run\"].astype(str)\n",
    "    mini_block = pd.get_dummies(temp_sub[['miniblock']], columns= ['miniblock'])\n",
    "    mini_block['p_hats'] = p_hats\n",
    "    rts = temp_sub['RT'].values\n",
    "\n",
    "    model = sm.OLS(rts, mini_block.values).fit()\n",
    "    AIC_sr_list_stan.append(model.aic)"
   ],
   "outputs": [
    {
     "output_type": "stream",
     "name": "stdout",
     "text": [
      "--- Sub 20---\n"
     ]
    }
   ],
   "metadata": {}
  },
  {
   "cell_type": "code",
   "execution_count": 42,
   "source": [
    "AIC_sr_list_stan"
   ],
   "outputs": [
    {
     "output_type": "execute_result",
     "data": {
      "text/plain": [
       "[11955.201928882132]"
      ]
     },
     "metadata": {},
     "execution_count": 42
    }
   ],
   "metadata": {}
  }
 ],
 "metadata": {
  "orig_nbformat": 4,
  "language_info": {
   "name": "python",
   "version": "3.9.7",
   "mimetype": "text/x-python",
   "codemirror_mode": {
    "name": "ipython",
    "version": 3
   },
   "pygments_lexer": "ipython3",
   "nbconvert_exporter": "python",
   "file_extension": ".py"
  },
  "kernelspec": {
   "name": "python3",
   "display_name": "Python 3.9.7 64-bit ('base': conda)"
  },
  "interpreter": {
   "hash": "dfa4a652f42ed5196625c910ea4ada19e7577281e908301ffc84fdb4826128f5"
  }
 },
 "nbformat": 4,
 "nbformat_minor": 2
}