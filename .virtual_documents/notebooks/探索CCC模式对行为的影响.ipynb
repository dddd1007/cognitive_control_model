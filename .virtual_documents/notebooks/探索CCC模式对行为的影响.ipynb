# import data
library(tidyverse)
library(here)
library(janitor)

raw_data <- read_csv(here(
    "data", "input",
    "subdata_with_alpha_decay.csv"
))
glimpse(raw_data)


total_lines_num <- nrow(raw_data)
raw_data %>%
    group_by(if_below_CCC, condition) %>%
    summarise(count = n(), percentage = n() / total_lines_num)


conflict_type <- rep(0, nrow(raw_data))
for (i in seq_len(nrow(raw_data))) {
    if (raw_data[i, ]$if_below_CCC) {
        conflict_type[i] <- 2
    } else if (!raw_data[i, ]$if_below_CCC & raw_data[i, ]$conflict_value < 0) {
        conflict_type[i] <- 1
    } else if (!raw_data[i, ]$if_below_CCC & raw_data[i, ]$conflict_value >= 0) {
        conflict_type[i] <- 0
    }
}
add_conflict_type_data <- cbind(raw_data, conflict_type)


!raw_data[2, ]$if_below_CCC


add_conflict_type_data %>%
    group_by(conflict_type, condition) %>%
    summarise(count = n(), percent = n() / total_lines_num)


# 变量命名规则: 在 conflict type 为 x 之后且刺激空间位置相同, 刺激颜色相同/不同的trial => cx_sloc_s/dcolor
c2_sloc_scolor_index <- c()
c2_sloc_dcolor_index <- c()
c2_dloc_scolor_index <- c()
c2_dloc_dcolor_index <- c()

c1_sloc_scolor_index <- c()
c1_sloc_dcolor_index <- c()
c1_dloc_scolor_index <- c()
c1_dloc_dcolor_index <- c()

c0_sloc_scolor_index <- c()
c0_sloc_dcolor_index <- c()
c0_dloc_scolor_index <- c()
c0_dloc_dcolor_index <- c()

# 提取不同条件的index
for (idx in seq_len(nrow(add_conflict_type_data))) {
    if (idx == 1) {
        next
    }

    last_line <- add_conflict_type_data[idx - 1, ]
    current_line <- add_conflict_type_data[idx, ]

    if (last_line$conflict_type == 2) {
        if (last_line$stim_loc == current_line$stim_loc &
            last_line$stim_color == current_line$stim_color &
            last_line$Subject == current_line$Subject) {
            c2_sloc_scolor_index <- append(c2_sloc_scolor_index, idx)
        } else if (last_line$stim_loc == current_line$stim_loc &
            last_line$stim_color != current_line$stim_color &
            last_line$Subject == current_line$Subject) {
            c2_sloc_dcolor_index <- append(c2_sloc_dcolor_index, idx)
        } else if (last_line$stim_loc != current_line$stim_loc &
            last_line$stim_color == current_line$stim_color &
            last_line$Subject == current_line$Subject) {
            c2_dloc_scolor_index <- append(c2_dloc_scolor_index, idx)
        } else if (last_line$stim_loc != current_line$stim_loc &
            last_line$stim_color != current_line$stim_color &
            last_line$Subject == current_line$Subject) {
            c2_dloc_dcolor_index <- append(c2_dloc_dcolor_index, idx)
        }
    } else if (last_line$conflict_type == 1) {
        if (last_line$stim_loc == current_line$stim_loc &
            last_line$stim_color == current_line$stim_color &
            last_line$Subject == current_line$Subject) {
            c1_sloc_scolor_index <- append(c1_sloc_scolor_index, idx)
        } else if (last_line$stim_loc == current_line$stim_loc &
            last_line$stim_color != current_line$stim_color &
            last_line$Subject == current_line$Subject) {
            c1_sloc_dcolor_index <- append(c1_sloc_dcolor_index, idx)
        } else if (last_line$stim_loc != current_line$stim_loc &
            last_line$stim_color == current_line$stim_color &
            last_line$Subject == current_line$Subject) {
            c1_dloc_scolor_index <- append(c1_dloc_scolor_index, idx)
        } else if (last_line$stim_loc != current_line$stim_loc &
            last_line$stim_color != current_line$stim_color &
            last_line$Subject == current_line$Subject) {
            c1_dloc_dcolor_index <- append(c1_dloc_dcolor_index, idx)
        }
    } else if (last_line$conflict_type == 0) {
        if (last_line$stim_loc == current_line$stim_loc &
            last_line$stim_color == current_line$stim_color &
            last_line$Subject == current_line$Subject) {
            c0_sloc_scolor_index <- append(c0_sloc_scolor_index, idx)
        } else if (last_line$stim_loc == current_line$stim_loc &
            last_line$stim_color != current_line$stim_color &
            last_line$Subject == current_line$Subject) {
            c0_sloc_dcolor_index <- append(c0_sloc_dcolor_index, idx)
        } else if (last_line$stim_loc != current_line$stim_loc &
            last_line$stim_color == current_line$stim_color &
            last_line$Subject == current_line$Subject) {
            c0_dloc_scolor_index <- append(c0_dloc_scolor_index, idx)
        } else if (last_line$stim_loc != current_line$stim_loc &
            last_line$stim_color != current_line$stim_color &
            last_line$Subject == current_line$Subject) {
            c0_dloc_dcolor_index <- append(c0_dloc_dcolor_index, idx)
        }
    }
}


ttest_two_type_trials_diffRT <- function(input_dataframe, index1, index2) {
    x_name <- paste0("mean_diff_", deparse(substitute(index1)))
    y_name <- paste0("mean_diff_", deparse(substitute(index2)))

    vector_1 <- input_dataframe[index1 - 1, ]$RT - input_dataframe[index1, ]$RT
    vector_2 <- input_dataframe[index2 - 1, ]$RT - input_dataframe[index2, ]$RT

    p_value <- rep(0, 3)
    mean_x <- rep(0, 3)
    mean_y <- rep(0, 3)
    ttest_type <- c("two.sided", "less", "greater")

    result1 <- t.test(vector_1, vector_2, alternative = c("two.sided"))
    result2 <- t.test(vector_1, vector_2, alternative = c("less"))
    result3 <- t.test(vector_1, vector_2, alternative = c("greater"))

    p_value[1] <- result1$p.value
    p_value[2] <- result2$p.value
    p_value[3] <- result3$p.value

    mean_x[1] <- result1$estimate[1]
    mean_x[2] <- result2$estimate[1]
    mean_x[3] <- result3$estimate[1]

    mean_y[1] <- result1$estimate[2]
    mean_y[2] <- result2$estimate[2]
    mean_y[3] <- result3$estimate[2]

    total_result <- data.frame(p_value, mean_x, mean_y, ttest_type)

    colnames(total_result) <- c("p_value", x_name, y_name, "ttest_type")

    return(total_result)
}


ttest_two_type_trials_diffRT(
    add_conflict_type_data,
    c2_sloc_scolor_index, c1_sloc_scolor_index
)
ttest_two_type_trials_diffRT(
    add_conflict_type_data,
    c2_sloc_scolor_index, c0_sloc_scolor_index
)
ttest_two_type_trials_diffRT(
    add_conflict_type_data,
    c1_sloc_scolor_index, c0_sloc_scolor_index
)
ttest_two_type_trials_diffRT(
    add_conflict_type_data,
    c0_sloc_scolor_index, c(c1_sloc_scolor_index, c2_sloc_scolor_index)
)
ttest_two_type_trials_diffRT(
    add_conflict_type_data, 
    c2_sloc_scolor_index, c(c1_sloc_scolor_index, c0_sloc_scolor_index)
)


plot(density(add_conflict_type_data$RT[c0_sloc_scolor_index] - add_conflict_type_data$RT[c0_sloc_scolor_index - 1]))


library(coin)


permute_two_type_trials_diffRT <- function(input_dataframe, index1, index2) {
    x_name <- paste0("mean_diff_", deparse(substitute(index1)))
    y_name <- paste0("mean_diff_", deparse(substitute(index2)))

    vector_1 <- input_dataframe[index1 - 1, ]$RT - input_dataframe[index1, ]$RT
    vector_2 <- input_dataframe[index2 - 1, ]$RT - input_dataframe[index2, ]$RT
    levels <- factor(c(rep("index1", length(vector_1)), rep("index2", length(vector_2))))
    test_data <- data.frame(value = c(vector_1, vector_2), levels)

    result <- coin::oneway_test(value~levels, test_data)

    return(result)
}


permute_two_type_trials_diffRT(
    add_conflict_type_data,
    c2_sloc_scolor_index, c1_sloc_scolor_index
)
permute_two_type_trials_diffRT(
    add_conflict_type_data,
    c2_sloc_scolor_index, c0_sloc_scolor_index
)
permute_two_type_trials_diffRT(
    add_conflict_type_data,
    c1_sloc_scolor_index, c0_sloc_scolor_index
)
permute_two_type_trials_diffRT(
    add_conflict_type_data,
    c0_sloc_scolor_index, c(c1_sloc_scolor_index, c2_sloc_scolor_index)
)
permute_two_type_trials_diffRT(
    add_conflict_type_data, 
    c2_sloc_scolor_index, c(c1_sloc_scolor_index, c0_sloc_scolor_index)
)
